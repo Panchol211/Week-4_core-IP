{
  "nbformat": 4,
  "nbformat_minor": 0,
  "metadata": {
    "colab": {
      "name": "Moringa_Data_Science_core_W4_Independent_Project_2020_09_Panchol_Alier_NoteBook.ipynb",
      "provenance": [],
      "collapsed_sections": [],
      "authorship_tag": "ABX9TyPPZ4pyV+inZ2EsdKzd+TY6",
      "include_colab_link": true
    },
    "kernelspec": {
      "name": "python3",
      "display_name": "Python 3"
    }
  },
  "cells": [
    {
      "cell_type": "markdown",
      "metadata": {
        "id": "view-in-github",
        "colab_type": "text"
      },
      "source": [
        "<a href=\"https://colab.research.google.com/github/Panchol211/Week-4_core-IP/blob/master/Moringa_Data_Science_core_W4_Independent_Project_2020_09_Panchol_Alier_NoteBook.ipynb\" target=\"_parent\"><img src=\"https://colab.research.google.com/assets/colab-badge.svg\" alt=\"Open In Colab\"/></a>"
      ]
    },
    {
      "cell_type": "markdown",
      "metadata": {
        "id": "IlHiCKsiH_C3",
        "colab_type": "text"
      },
      "source": [
        "##Analysis of an Automobile rental company called Autolib data to determine if Blue car taken during the weekdays was higher than the return cars on the same##"
      ]
    },
    {
      "cell_type": "code",
      "metadata": {
        "id": "HFXOjnbkEdTl",
        "colab_type": "code",
        "colab": {}
      },
      "source": [
        "import pandas as pd\n",
        "import numpy as np\n",
        "import matplotlib.pyplot as plt\n",
        "import seaborn as sns\n",
        "from scipy.stats import norm\n",
        "from scipy import stats\n",
        "import statistics\n",
        "import matplotlib.pyplot as plt\n",
        "import seaborn as sns\n",
        "import math\n",
        "from scipy.stats import ttest_1samp\n",
        "import scipy\n",
        "import random\n",
        "from numpy.random import seed\n"
      ],
      "execution_count": null,
      "outputs": []
    },
    {
      "cell_type": "code",
      "metadata": {
        "id": "r7fJ1rxlDoyh",
        "colab_type": "code",
        "colab": {
          "base_uri": "https://localhost:8080/",
          "height": 239
        },
        "outputId": "f9da0029-a24b-4bb4-dd84-02a2b1371f5e"
      },
      "source": [
        "autolib = pd.read_csv(\"autolib_daily_events_postal_code.csv\")\n",
        "autolib.head()"
      ],
      "execution_count": null,
      "outputs": [
        {
          "output_type": "execute_result",
          "data": {
            "text/html": [
              "<div>\n",
              "<style scoped>\n",
              "    .dataframe tbody tr th:only-of-type {\n",
              "        vertical-align: middle;\n",
              "    }\n",
              "\n",
              "    .dataframe tbody tr th {\n",
              "        vertical-align: top;\n",
              "    }\n",
              "\n",
              "    .dataframe thead th {\n",
              "        text-align: right;\n",
              "    }\n",
              "</style>\n",
              "<table border=\"1\" class=\"dataframe\">\n",
              "  <thead>\n",
              "    <tr style=\"text-align: right;\">\n",
              "      <th></th>\n",
              "      <th>Postal code</th>\n",
              "      <th>date</th>\n",
              "      <th>n_daily_data_points</th>\n",
              "      <th>dayOfWeek</th>\n",
              "      <th>day_type</th>\n",
              "      <th>BlueCars_taken_sum</th>\n",
              "      <th>BlueCars_returned_sum</th>\n",
              "      <th>Utilib_taken_sum</th>\n",
              "      <th>Utilib_returned_sum</th>\n",
              "      <th>Utilib_14_taken_sum</th>\n",
              "      <th>Utilib_14_returned_sum</th>\n",
              "      <th>Slots_freed_sum</th>\n",
              "      <th>Slots_taken_sum</th>\n",
              "    </tr>\n",
              "  </thead>\n",
              "  <tbody>\n",
              "    <tr>\n",
              "      <th>0</th>\n",
              "      <td>75001</td>\n",
              "      <td>1/1/2018</td>\n",
              "      <td>1440</td>\n",
              "      <td>0</td>\n",
              "      <td>weekday</td>\n",
              "      <td>110</td>\n",
              "      <td>103</td>\n",
              "      <td>3</td>\n",
              "      <td>2</td>\n",
              "      <td>10</td>\n",
              "      <td>9</td>\n",
              "      <td>22</td>\n",
              "      <td>20</td>\n",
              "    </tr>\n",
              "    <tr>\n",
              "      <th>1</th>\n",
              "      <td>75001</td>\n",
              "      <td>1/2/2018</td>\n",
              "      <td>1438</td>\n",
              "      <td>1</td>\n",
              "      <td>weekday</td>\n",
              "      <td>98</td>\n",
              "      <td>94</td>\n",
              "      <td>1</td>\n",
              "      <td>1</td>\n",
              "      <td>8</td>\n",
              "      <td>8</td>\n",
              "      <td>23</td>\n",
              "      <td>22</td>\n",
              "    </tr>\n",
              "    <tr>\n",
              "      <th>2</th>\n",
              "      <td>75001</td>\n",
              "      <td>1/3/2018</td>\n",
              "      <td>1439</td>\n",
              "      <td>2</td>\n",
              "      <td>weekday</td>\n",
              "      <td>138</td>\n",
              "      <td>139</td>\n",
              "      <td>0</td>\n",
              "      <td>0</td>\n",
              "      <td>2</td>\n",
              "      <td>2</td>\n",
              "      <td>27</td>\n",
              "      <td>27</td>\n",
              "    </tr>\n",
              "    <tr>\n",
              "      <th>3</th>\n",
              "      <td>75001</td>\n",
              "      <td>1/4/2018</td>\n",
              "      <td>1320</td>\n",
              "      <td>3</td>\n",
              "      <td>weekday</td>\n",
              "      <td>104</td>\n",
              "      <td>104</td>\n",
              "      <td>2</td>\n",
              "      <td>2</td>\n",
              "      <td>9</td>\n",
              "      <td>8</td>\n",
              "      <td>25</td>\n",
              "      <td>21</td>\n",
              "    </tr>\n",
              "    <tr>\n",
              "      <th>4</th>\n",
              "      <td>75001</td>\n",
              "      <td>1/5/2018</td>\n",
              "      <td>1440</td>\n",
              "      <td>4</td>\n",
              "      <td>weekday</td>\n",
              "      <td>114</td>\n",
              "      <td>117</td>\n",
              "      <td>3</td>\n",
              "      <td>3</td>\n",
              "      <td>6</td>\n",
              "      <td>6</td>\n",
              "      <td>18</td>\n",
              "      <td>20</td>\n",
              "    </tr>\n",
              "  </tbody>\n",
              "</table>\n",
              "</div>"
            ],
            "text/plain": [
              "   Postal code      date  ...  Slots_freed_sum  Slots_taken_sum\n",
              "0        75001  1/1/2018  ...               22               20\n",
              "1        75001  1/2/2018  ...               23               22\n",
              "2        75001  1/3/2018  ...               27               27\n",
              "3        75001  1/4/2018  ...               25               21\n",
              "4        75001  1/5/2018  ...               18               20\n",
              "\n",
              "[5 rows x 13 columns]"
            ]
          },
          "metadata": {
            "tags": []
          },
          "execution_count": 53
        }
      ]
    },
    {
      "cell_type": "code",
      "metadata": {
        "id": "K1NC_JaqFKCa",
        "colab_type": "code",
        "colab": {
          "base_uri": "https://localhost:8080/",
          "height": 239
        },
        "outputId": "be0959ef-c624-44ec-f154-f0e08b53e322"
      },
      "source": [
        "autolib.tail()"
      ],
      "execution_count": null,
      "outputs": [
        {
          "output_type": "execute_result",
          "data": {
            "text/html": [
              "<div>\n",
              "<style scoped>\n",
              "    .dataframe tbody tr th:only-of-type {\n",
              "        vertical-align: middle;\n",
              "    }\n",
              "\n",
              "    .dataframe tbody tr th {\n",
              "        vertical-align: top;\n",
              "    }\n",
              "\n",
              "    .dataframe thead th {\n",
              "        text-align: right;\n",
              "    }\n",
              "</style>\n",
              "<table border=\"1\" class=\"dataframe\">\n",
              "  <thead>\n",
              "    <tr style=\"text-align: right;\">\n",
              "      <th></th>\n",
              "      <th>Postal code</th>\n",
              "      <th>date</th>\n",
              "      <th>n_daily_data_points</th>\n",
              "      <th>dayOfWeek</th>\n",
              "      <th>day_type</th>\n",
              "      <th>BlueCars_taken_sum</th>\n",
              "      <th>BlueCars_returned_sum</th>\n",
              "      <th>Utilib_taken_sum</th>\n",
              "      <th>Utilib_returned_sum</th>\n",
              "      <th>Utilib_14_taken_sum</th>\n",
              "      <th>Utilib_14_returned_sum</th>\n",
              "      <th>Slots_freed_sum</th>\n",
              "      <th>Slots_taken_sum</th>\n",
              "    </tr>\n",
              "  </thead>\n",
              "  <tbody>\n",
              "    <tr>\n",
              "      <th>16080</th>\n",
              "      <td>95880</td>\n",
              "      <td>6/15/2018</td>\n",
              "      <td>1440</td>\n",
              "      <td>4</td>\n",
              "      <td>weekday</td>\n",
              "      <td>15</td>\n",
              "      <td>10</td>\n",
              "      <td>0</td>\n",
              "      <td>0</td>\n",
              "      <td>2</td>\n",
              "      <td>3</td>\n",
              "      <td>0</td>\n",
              "      <td>0</td>\n",
              "    </tr>\n",
              "    <tr>\n",
              "      <th>16081</th>\n",
              "      <td>95880</td>\n",
              "      <td>6/16/2018</td>\n",
              "      <td>1440</td>\n",
              "      <td>5</td>\n",
              "      <td>weekend</td>\n",
              "      <td>19</td>\n",
              "      <td>19</td>\n",
              "      <td>0</td>\n",
              "      <td>0</td>\n",
              "      <td>2</td>\n",
              "      <td>1</td>\n",
              "      <td>0</td>\n",
              "      <td>0</td>\n",
              "    </tr>\n",
              "    <tr>\n",
              "      <th>16082</th>\n",
              "      <td>95880</td>\n",
              "      <td>6/17/2018</td>\n",
              "      <td>1440</td>\n",
              "      <td>6</td>\n",
              "      <td>weekend</td>\n",
              "      <td>33</td>\n",
              "      <td>35</td>\n",
              "      <td>1</td>\n",
              "      <td>1</td>\n",
              "      <td>0</td>\n",
              "      <td>0</td>\n",
              "      <td>0</td>\n",
              "      <td>0</td>\n",
              "    </tr>\n",
              "    <tr>\n",
              "      <th>16083</th>\n",
              "      <td>95880</td>\n",
              "      <td>6/18/2018</td>\n",
              "      <td>1440</td>\n",
              "      <td>0</td>\n",
              "      <td>weekday</td>\n",
              "      <td>11</td>\n",
              "      <td>14</td>\n",
              "      <td>3</td>\n",
              "      <td>5</td>\n",
              "      <td>2</td>\n",
              "      <td>2</td>\n",
              "      <td>0</td>\n",
              "      <td>0</td>\n",
              "    </tr>\n",
              "    <tr>\n",
              "      <th>16084</th>\n",
              "      <td>95880</td>\n",
              "      <td>6/19/2018</td>\n",
              "      <td>1370</td>\n",
              "      <td>1</td>\n",
              "      <td>weekday</td>\n",
              "      <td>2</td>\n",
              "      <td>2</td>\n",
              "      <td>2</td>\n",
              "      <td>1</td>\n",
              "      <td>0</td>\n",
              "      <td>0</td>\n",
              "      <td>0</td>\n",
              "      <td>0</td>\n",
              "    </tr>\n",
              "  </tbody>\n",
              "</table>\n",
              "</div>"
            ],
            "text/plain": [
              "       Postal code       date  ...  Slots_freed_sum  Slots_taken_sum\n",
              "16080        95880  6/15/2018  ...                0                0\n",
              "16081        95880  6/16/2018  ...                0                0\n",
              "16082        95880  6/17/2018  ...                0                0\n",
              "16083        95880  6/18/2018  ...                0                0\n",
              "16084        95880  6/19/2018  ...                0                0\n",
              "\n",
              "[5 rows x 13 columns]"
            ]
          },
          "metadata": {
            "tags": []
          },
          "execution_count": 5
        }
      ]
    },
    {
      "cell_type": "code",
      "metadata": {
        "id": "OYxLY5mmEqPd",
        "colab_type": "code",
        "colab": {
          "base_uri": "https://localhost:8080/",
          "height": 35
        },
        "outputId": "0a4cfd96-c8af-48b7-928f-1f72bf06dcb6"
      },
      "source": [
        "autolib.shape"
      ],
      "execution_count": null,
      "outputs": [
        {
          "output_type": "execute_result",
          "data": {
            "text/plain": [
              "(16085, 13)"
            ]
          },
          "metadata": {
            "tags": []
          },
          "execution_count": 6
        }
      ]
    },
    {
      "cell_type": "code",
      "metadata": {
        "id": "VoR_UR2fF2oS",
        "colab_type": "code",
        "colab": {
          "base_uri": "https://localhost:8080/",
          "height": 260
        },
        "outputId": "2c293a98-9a4f-46d0-a69d-339d6e0bb175"
      },
      "source": [
        "autolib.info"
      ],
      "execution_count": null,
      "outputs": [
        {
          "output_type": "execute_result",
          "data": {
            "text/plain": [
              "<bound method DataFrame.info of        Postal code       date  ...  Slots_freed_sum  Slots_taken_sum\n",
              "0            75001   1/1/2018  ...               22               20\n",
              "1            75001   1/2/2018  ...               23               22\n",
              "2            75001   1/3/2018  ...               27               27\n",
              "3            75001   1/4/2018  ...               25               21\n",
              "4            75001   1/5/2018  ...               18               20\n",
              "...            ...        ...  ...              ...              ...\n",
              "16080        95880  6/15/2018  ...                0                0\n",
              "16081        95880  6/16/2018  ...                0                0\n",
              "16082        95880  6/17/2018  ...                0                0\n",
              "16083        95880  6/18/2018  ...                0                0\n",
              "16084        95880  6/19/2018  ...                0                0\n",
              "\n",
              "[16085 rows x 13 columns]>"
            ]
          },
          "metadata": {
            "tags": []
          },
          "execution_count": 9
        }
      ]
    },
    {
      "cell_type": "code",
      "metadata": {
        "id": "57hj5VCFEzsT",
        "colab_type": "code",
        "colab": {
          "base_uri": "https://localhost:8080/",
          "height": 260
        },
        "outputId": "91546098-b6fb-42a8-bcf9-aedf6cac912c"
      },
      "source": [
        "autolib.dtypes"
      ],
      "execution_count": null,
      "outputs": [
        {
          "output_type": "execute_result",
          "data": {
            "text/plain": [
              "Postal code                int64\n",
              "date                      object\n",
              "n_daily_data_points        int64\n",
              "dayOfWeek                  int64\n",
              "day_type                  object\n",
              "BlueCars_taken_sum         int64\n",
              "BlueCars_returned_sum      int64\n",
              "Utilib_taken_sum           int64\n",
              "Utilib_returned_sum        int64\n",
              "Utilib_14_taken_sum        int64\n",
              "Utilib_14_returned_sum     int64\n",
              "Slots_freed_sum            int64\n",
              "Slots_taken_sum            int64\n",
              "dtype: object"
            ]
          },
          "metadata": {
            "tags": []
          },
          "execution_count": 7
        }
      ]
    },
    {
      "cell_type": "markdown",
      "metadata": {
        "id": "4wVw2X8NhAvr",
        "colab_type": "text"
      },
      "source": [
        "\n",
        "1. Most of the values are int64 types.\n",
        "2. Only day type and date features are object type."
      ]
    },
    {
      "cell_type": "markdown",
      "metadata": {
        "id": "xvpVAsFiFq2p",
        "colab_type": "text"
      },
      "source": [
        "checking for anomalities "
      ]
    },
    {
      "cell_type": "code",
      "metadata": {
        "id": "sfttGf1QFY5J",
        "colab_type": "code",
        "colab": {
          "base_uri": "https://localhost:8080/",
          "height": 35
        },
        "outputId": "31f89413-7030-4624-af28-bc56d0799ad2"
      },
      "source": [
        "autolib.isnull().values.any()"
      ],
      "execution_count": null,
      "outputs": [
        {
          "output_type": "execute_result",
          "data": {
            "text/plain": [
              "False"
            ]
          },
          "metadata": {
            "tags": []
          },
          "execution_count": 8
        }
      ]
    },
    {
      "cell_type": "markdown",
      "metadata": {
        "id": "LsPCjBc1harx",
        "colab_type": "text"
      },
      "source": [
        " And We can see there are no null values."
      ]
    },
    {
      "cell_type": "markdown",
      "metadata": {
        "id": "yov1q9nmX1zI",
        "colab_type": "text"
      },
      "source": [
        "Cleaning of the data"
      ]
    },
    {
      "cell_type": "markdown",
      "metadata": {
        "id": "hgKJOqJwjLXU",
        "colab_type": "text"
      },
      "source": [
        "Exploratory Analysis"
      ]
    },
    {
      "cell_type": "code",
      "metadata": {
        "id": "uGXXsZqad-ce",
        "colab_type": "code",
        "colab": {
          "base_uri": "https://localhost:8080/",
          "height": 314
        },
        "outputId": "d0d5ddf4-f73c-48d9-e8bc-55969e954b69"
      },
      "source": [
        "autolib.describe()"
      ],
      "execution_count": null,
      "outputs": [
        {
          "output_type": "execute_result",
          "data": {
            "text/html": [
              "<div>\n",
              "<style scoped>\n",
              "    .dataframe tbody tr th:only-of-type {\n",
              "        vertical-align: middle;\n",
              "    }\n",
              "\n",
              "    .dataframe tbody tr th {\n",
              "        vertical-align: top;\n",
              "    }\n",
              "\n",
              "    .dataframe thead th {\n",
              "        text-align: right;\n",
              "    }\n",
              "</style>\n",
              "<table border=\"1\" class=\"dataframe\">\n",
              "  <thead>\n",
              "    <tr style=\"text-align: right;\">\n",
              "      <th></th>\n",
              "      <th>Postal code</th>\n",
              "      <th>n_daily_data_points</th>\n",
              "      <th>dayOfWeek</th>\n",
              "      <th>BlueCars_taken_sum</th>\n",
              "      <th>BlueCars_returned_sum</th>\n",
              "      <th>Utilib_taken_sum</th>\n",
              "      <th>Utilib_returned_sum</th>\n",
              "      <th>Utilib_14_taken_sum</th>\n",
              "      <th>Utilib_14_returned_sum</th>\n",
              "      <th>Slots_freed_sum</th>\n",
              "      <th>Slots_taken_sum</th>\n",
              "    </tr>\n",
              "  </thead>\n",
              "  <tbody>\n",
              "    <tr>\n",
              "      <th>count</th>\n",
              "      <td>16085.000000</td>\n",
              "      <td>16085.000000</td>\n",
              "      <td>16085.000000</td>\n",
              "      <td>16085.000000</td>\n",
              "      <td>16085.000000</td>\n",
              "      <td>16085.000000</td>\n",
              "      <td>16085.000000</td>\n",
              "      <td>16085.000000</td>\n",
              "      <td>16085.000000</td>\n",
              "      <td>16085.000000</td>\n",
              "      <td>16085.000000</td>\n",
              "    </tr>\n",
              "    <tr>\n",
              "      <th>mean</th>\n",
              "      <td>88791.293876</td>\n",
              "      <td>1431.330619</td>\n",
              "      <td>2.969599</td>\n",
              "      <td>125.926951</td>\n",
              "      <td>125.912714</td>\n",
              "      <td>3.698290</td>\n",
              "      <td>3.699099</td>\n",
              "      <td>8.600560</td>\n",
              "      <td>8.599192</td>\n",
              "      <td>22.629033</td>\n",
              "      <td>22.629282</td>\n",
              "    </tr>\n",
              "    <tr>\n",
              "      <th>std</th>\n",
              "      <td>7647.342000</td>\n",
              "      <td>33.212050</td>\n",
              "      <td>2.008378</td>\n",
              "      <td>185.426579</td>\n",
              "      <td>185.501535</td>\n",
              "      <td>5.815058</td>\n",
              "      <td>5.824634</td>\n",
              "      <td>12.870098</td>\n",
              "      <td>12.868993</td>\n",
              "      <td>52.120263</td>\n",
              "      <td>52.146030</td>\n",
              "    </tr>\n",
              "    <tr>\n",
              "      <th>min</th>\n",
              "      <td>75001.000000</td>\n",
              "      <td>1174.000000</td>\n",
              "      <td>0.000000</td>\n",
              "      <td>0.000000</td>\n",
              "      <td>0.000000</td>\n",
              "      <td>0.000000</td>\n",
              "      <td>0.000000</td>\n",
              "      <td>0.000000</td>\n",
              "      <td>0.000000</td>\n",
              "      <td>0.000000</td>\n",
              "      <td>0.000000</td>\n",
              "    </tr>\n",
              "    <tr>\n",
              "      <th>25%</th>\n",
              "      <td>91330.000000</td>\n",
              "      <td>1439.000000</td>\n",
              "      <td>1.000000</td>\n",
              "      <td>20.000000</td>\n",
              "      <td>20.000000</td>\n",
              "      <td>0.000000</td>\n",
              "      <td>0.000000</td>\n",
              "      <td>1.000000</td>\n",
              "      <td>1.000000</td>\n",
              "      <td>0.000000</td>\n",
              "      <td>0.000000</td>\n",
              "    </tr>\n",
              "    <tr>\n",
              "      <th>50%</th>\n",
              "      <td>92340.000000</td>\n",
              "      <td>1440.000000</td>\n",
              "      <td>3.000000</td>\n",
              "      <td>46.000000</td>\n",
              "      <td>46.000000</td>\n",
              "      <td>1.000000</td>\n",
              "      <td>1.000000</td>\n",
              "      <td>3.000000</td>\n",
              "      <td>3.000000</td>\n",
              "      <td>0.000000</td>\n",
              "      <td>0.000000</td>\n",
              "    </tr>\n",
              "    <tr>\n",
              "      <th>75%</th>\n",
              "      <td>93400.000000</td>\n",
              "      <td>1440.000000</td>\n",
              "      <td>5.000000</td>\n",
              "      <td>135.000000</td>\n",
              "      <td>135.000000</td>\n",
              "      <td>4.000000</td>\n",
              "      <td>4.000000</td>\n",
              "      <td>10.000000</td>\n",
              "      <td>10.000000</td>\n",
              "      <td>5.000000</td>\n",
              "      <td>5.000000</td>\n",
              "    </tr>\n",
              "    <tr>\n",
              "      <th>max</th>\n",
              "      <td>95880.000000</td>\n",
              "      <td>1440.000000</td>\n",
              "      <td>6.000000</td>\n",
              "      <td>1352.000000</td>\n",
              "      <td>1332.000000</td>\n",
              "      <td>54.000000</td>\n",
              "      <td>58.000000</td>\n",
              "      <td>100.000000</td>\n",
              "      <td>101.000000</td>\n",
              "      <td>360.000000</td>\n",
              "      <td>359.000000</td>\n",
              "    </tr>\n",
              "  </tbody>\n",
              "</table>\n",
              "</div>"
            ],
            "text/plain": [
              "        Postal code  n_daily_data_points  ...  Slots_freed_sum  Slots_taken_sum\n",
              "count  16085.000000         16085.000000  ...     16085.000000     16085.000000\n",
              "mean   88791.293876          1431.330619  ...        22.629033        22.629282\n",
              "std     7647.342000            33.212050  ...        52.120263        52.146030\n",
              "min    75001.000000          1174.000000  ...         0.000000         0.000000\n",
              "25%    91330.000000          1439.000000  ...         0.000000         0.000000\n",
              "50%    92340.000000          1440.000000  ...         0.000000         0.000000\n",
              "75%    93400.000000          1440.000000  ...         5.000000         5.000000\n",
              "max    95880.000000          1440.000000  ...       360.000000       359.000000\n",
              "\n",
              "[8 rows x 11 columns]"
            ]
          },
          "metadata": {
            "tags": []
          },
          "execution_count": 14
        }
      ]
    },
    {
      "cell_type": "code",
      "metadata": {
        "id": "v-rTtSHXkBFZ",
        "colab_type": "code",
        "colab": {
          "base_uri": "https://localhost:8080/",
          "height": 260
        },
        "outputId": "efa57754-3c43-499b-c707-c782d5ed0e56"
      },
      "source": [
        "#checking unique values in each column\n",
        "autolib.apply(lambda x : x.nunique())"
      ],
      "execution_count": null,
      "outputs": [
        {
          "output_type": "execute_result",
          "data": {
            "text/plain": [
              "Postal code               104\n",
              "date                      156\n",
              "n_daily_data_points        23\n",
              "dayOfWeek                   7\n",
              "day_type                    2\n",
              "BlueCars_taken_sum        932\n",
              "BlueCars_returned_sum     929\n",
              "Utilib_taken_sum           48\n",
              "Utilib_returned_sum        49\n",
              "Utilib_14_taken_sum        92\n",
              "Utilib_14_returned_sum     94\n",
              "Slots_freed_sum           297\n",
              "Slots_taken_sum           301\n",
              "dtype: int64"
            ]
          },
          "metadata": {
            "tags": []
          },
          "execution_count": 32
        }
      ]
    },
    {
      "cell_type": "code",
      "metadata": {
        "id": "KtWPnKfw2any",
        "colab_type": "code",
        "colab": {
          "base_uri": "https://localhost:8080/",
          "height": 69
        },
        "outputId": "2d6e0f51-993f-4c0d-f4ad-1374c3aa2081"
      },
      "source": [
        "autolib[\"day_type\"].value_counts()"
      ],
      "execution_count": null,
      "outputs": [
        {
          "output_type": "execute_result",
          "data": {
            "text/plain": [
              "weekday    11544\n",
              "weekend     4541\n",
              "Name: day_type, dtype: int64"
            ]
          },
          "metadata": {
            "tags": []
          },
          "execution_count": 46
        }
      ]
    },
    {
      "cell_type": "code",
      "metadata": {
        "id": "k1A6FtLw2bHe",
        "colab_type": "code",
        "colab": {
          "base_uri": "https://localhost:8080/",
          "height": 225
        },
        "outputId": "1db6bbc2-5b75-4bc7-ad0d-ee4ca6c52d10"
      },
      "source": [
        "autolib[\"Postal code\"].value_counts()"
      ],
      "execution_count": null,
      "outputs": [
        {
          "output_type": "execute_result",
          "data": {
            "text/plain": [
              "94130    156\n",
              "92310    156\n",
              "78140    156\n",
              "94700    156\n",
              "95100    156\n",
              "        ... \n",
              "93150    151\n",
              "93370    149\n",
              "92340    147\n",
              "93200    126\n",
              "93390     84\n",
              "Name: Postal code, Length: 104, dtype: int64"
            ]
          },
          "metadata": {
            "tags": []
          },
          "execution_count": 47
        }
      ]
    },
    {
      "cell_type": "code",
      "metadata": {
        "id": "eegvuIh022zg",
        "colab_type": "code",
        "colab": {
          "base_uri": "https://localhost:8080/",
          "height": 225
        },
        "outputId": "702c03de-931f-459a-c8f6-d03720b0d576"
      },
      "source": [
        "autolib[\"Slots_freed_sum\"].value_counts()"
      ],
      "execution_count": null,
      "outputs": [
        {
          "output_type": "execute_result",
          "data": {
            "text/plain": [
              "0      10227\n",
              "1        540\n",
              "2        487\n",
              "3        390\n",
              "4        326\n",
              "       ...  \n",
              "242        1\n",
              "305        1\n",
              "289        1\n",
              "360        1\n",
              "339        1\n",
              "Name: Slots_freed_sum, Length: 297, dtype: int64"
            ]
          },
          "metadata": {
            "tags": []
          },
          "execution_count": 48
        }
      ]
    },
    {
      "cell_type": "code",
      "metadata": {
        "id": "QxSrqH0V3U5d",
        "colab_type": "code",
        "colab": {
          "base_uri": "https://localhost:8080/",
          "height": 225
        },
        "outputId": "4059e842-b557-434f-e997-789dff9a4275"
      },
      "source": [
        "autolib[\"Slots_taken_sum\"].value_counts()"
      ],
      "execution_count": null,
      "outputs": [
        {
          "output_type": "execute_result",
          "data": {
            "text/plain": [
              "0      10235\n",
              "1        545\n",
              "2        476\n",
              "3        405\n",
              "4        309\n",
              "       ...  \n",
              "330        1\n",
              "338        1\n",
              "346        1\n",
              "267        1\n",
              "315        1\n",
              "Name: Slots_taken_sum, Length: 301, dtype: int64"
            ]
          },
          "metadata": {
            "tags": []
          },
          "execution_count": 49
        }
      ]
    },
    {
      "cell_type": "code",
      "metadata": {
        "id": "tBZJrac4VcbF",
        "colab_type": "code",
        "colab": {
          "base_uri": "https://localhost:8080/",
          "height": 156
        },
        "outputId": "ec033c3f-3ac6-4fb7-b8ab-d7a94b59ea4a"
      },
      "source": [
        "autolib[\"dayOfWeek\"].value_counts()"
      ],
      "execution_count": null,
      "outputs": [
        {
          "output_type": "execute_result",
          "data": {
            "text/plain": [
              "0    2374\n",
              "1    2363\n",
              "6    2274\n",
              "4    2271\n",
              "3    2268\n",
              "2    2268\n",
              "5    2267\n",
              "Name: dayOfWeek, dtype: int64"
            ]
          },
          "metadata": {
            "tags": []
          },
          "execution_count": 13
        }
      ]
    },
    {
      "cell_type": "code",
      "metadata": {
        "id": "evYh8VHoWYDW",
        "colab_type": "code",
        "colab": {
          "base_uri": "https://localhost:8080/",
          "height": 69
        },
        "outputId": "b06c18c9-87c2-42e9-bb7e-ebb20f8a62eb"
      },
      "source": [
        "autolib[\"day_type\"].value_counts()\n"
      ],
      "execution_count": null,
      "outputs": [
        {
          "output_type": "execute_result",
          "data": {
            "text/plain": [
              "weekday    11544\n",
              "weekend     4541\n",
              "Name: day_type, dtype: int64"
            ]
          },
          "metadata": {
            "tags": []
          },
          "execution_count": 14
        }
      ]
    },
    {
      "cell_type": "markdown",
      "metadata": {
        "id": "CVoixy_OjF0U",
        "colab_type": "text"
      },
      "source": [
        "Checking if there is correlation between postal and blue car taken or returned"
      ]
    },
    {
      "cell_type": "code",
      "metadata": {
        "id": "YJLEJJMziCic",
        "colab_type": "code",
        "colab": {
          "base_uri": "https://localhost:8080/",
          "height": 35
        },
        "outputId": "6fa0a7c3-8316-41bf-86a8-fd57117100ef"
      },
      "source": [
        "autolib['Postal code'].corr(autolib['BlueCars_taken_sum']) "
      ],
      "execution_count": null,
      "outputs": [
        {
          "output_type": "execute_result",
          "data": {
            "text/plain": [
              "-0.6980199787851213"
            ]
          },
          "metadata": {
            "tags": []
          },
          "execution_count": 28
        }
      ]
    },
    {
      "cell_type": "code",
      "metadata": {
        "id": "9AjX6uHdiXId",
        "colab_type": "code",
        "colab": {
          "base_uri": "https://localhost:8080/",
          "height": 35
        },
        "outputId": "78436593-4a7f-4be9-8f57-c4df7f99a125"
      },
      "source": [
        "autolib['dayOfWeek'].corr(autolib['BlueCars_taken_sum'])"
      ],
      "execution_count": null,
      "outputs": [
        {
          "output_type": "execute_result",
          "data": {
            "text/plain": [
              "0.07964926759308416"
            ]
          },
          "metadata": {
            "tags": []
          },
          "execution_count": 30
        }
      ]
    },
    {
      "cell_type": "code",
      "metadata": {
        "id": "ASU025e1ivXe",
        "colab_type": "code",
        "colab": {
          "base_uri": "https://localhost:8080/",
          "height": 35
        },
        "outputId": "34719898-38fd-49ee-eff3-e147fe822f02"
      },
      "source": [
        "autolib['BlueCars_returned_sum'].corr(autolib['BlueCars_taken_sum'])"
      ],
      "execution_count": null,
      "outputs": [
        {
          "output_type": "execute_result",
          "data": {
            "text/plain": [
              "0.9986597051672199"
            ]
          },
          "metadata": {
            "tags": []
          },
          "execution_count": 31
        }
      ]
    },
    {
      "cell_type": "markdown",
      "metadata": {
        "id": "YFCvxuiejdXl",
        "colab_type": "text"
      },
      "source": [
        "There is high correlation of 0.99867 between the number cars taken as well as number of cars returned "
      ]
    },
    {
      "cell_type": "code",
      "metadata": {
        "id": "kby5PW03ae7L",
        "colab_type": "code",
        "colab": {
          "base_uri": "https://localhost:8080/",
          "height": 295
        },
        "outputId": "ff33695b-ba2c-4bfb-d62f-941752f8f990"
      },
      "source": [
        "autolib['BlueCars_taken_sum'].hist(bins=5,color='brown');\n",
        "plt.title(\"blue cars  histogram\")\n",
        "plt.ylabel('Number of vehicles')\n",
        "plt.xlabel('Frequency of being taken');"
      ],
      "execution_count": null,
      "outputs": [
        {
          "output_type": "display_data",
          "data": {
            "image/png": "[encoded data removed]",
            "text/plain": [
              "<Figure size 432x288 with 1 Axes>"
            ]
          },
          "metadata": {
            "tags": [],
            "needs_background": "light"
          }
        }
      ]
    },
    {
      "cell_type": "code",
      "metadata": {
        "id": "-LtS0wvAa8zq",
        "colab_type": "code",
        "colab": {
          "base_uri": "https://localhost:8080/",
          "height": 295
        },
        "outputId": "df87feec-5d61-4801-9b35-da13218b7f6e"
      },
      "source": [
        "autolib['BlueCars_returned_sum'].hist(bins=5,color='green');\n",
        "plt.title(\"blue cars histogram\")\n",
        "plt.ylabel('Number of vehicles')\n",
        "plt.xlabel('Frequency of being return');"
      ],
      "execution_count": null,
      "outputs": [
        {
          "output_type": "display_data",
          "data": {
            "image/png": "[encoded data removed]",
            "text/plain": [
              "<Figure size 432x288 with 1 Axes>"
            ]
          },
          "metadata": {
            "tags": [],
            "needs_background": "light"
          }
        }
      ]
    },
    {
      "cell_type": "code",
      "metadata": {
        "id": "vZgzWFN1HWeH",
        "colab_type": "code",
        "colab": {
          "base_uri": "https://localhost:8080/",
          "height": 260
        },
        "outputId": "615b19c8-d63a-4300-9ff9-92f95fa58800"
      },
      "source": [
        "data_copy = autolib.copy\n",
        "data_copy"
      ],
      "execution_count": null,
      "outputs": [
        {
          "output_type": "execute_result",
          "data": {
            "text/plain": [
              "<bound method NDFrame.copy of        Postal code       date  ...  Slots_freed_sum  Slots_taken_sum\n",
              "0            75001   1/1/2018  ...               22               20\n",
              "1            75001   1/2/2018  ...               23               22\n",
              "2            75001   1/3/2018  ...               27               27\n",
              "3            75001   1/4/2018  ...               25               21\n",
              "4            75001   1/5/2018  ...               18               20\n",
              "...            ...        ...  ...              ...              ...\n",
              "16080        95880  6/15/2018  ...                0                0\n",
              "16081        95880  6/16/2018  ...                0                0\n",
              "16082        95880  6/17/2018  ...                0                0\n",
              "16083        95880  6/18/2018  ...                0                0\n",
              "16084        95880  6/19/2018  ...                0                0\n",
              "\n",
              "[16085 rows x 13 columns]>"
            ]
          },
          "metadata": {
            "tags": []
          },
          "execution_count": 192
        }
      ]
    },
    {
      "cell_type": "code",
      "metadata": {
        "id": "rfJbDKa5HljK",
        "colab_type": "code",
        "colab": {}
      },
      "source": [
        ""
      ],
      "execution_count": null,
      "outputs": []
    },
    {
      "cell_type": "code",
      "metadata": {
        "id": "6R3ErQ45bwhl",
        "colab_type": "code",
        "colab": {
          "base_uri": "https://localhost:8080/",
          "height": 1000
        },
        "outputId": "c1660c35-1aa2-449f-df13-1df05460b97b"
      },
      "source": [
        "# Checking for Outliers\n",
        "#\n",
        "col_name = [\"BlueCars_taken_sum\", \"Utilib_taken_sum\", \"Utilib_14_taken_sum\"]\n",
        "fig, ax= plt.subplots(len(col_name), figsize=(8,40))\n",
        "for i, col_val in enumerate(col_name):\n",
        "        sns.boxplot(y=autolib[col_val], ax=ax[i])\n",
        "        ax[i].set_title('Box plot - '+col_val, fontsize=10)\n",
        "        ax[i].set_xlabel(col_val, fontsize=8)\n",
        "    \n",
        "plt.show()"
      ],
      "execution_count": null,
      "outputs": [
        {
          "output_type": "display_data",
          "data": {
            "image/png": "[encoded data removed]",
            "text/plain": [
              "<Figure size 576x2880 with 3 Axes>"
            ]
          },
          "metadata": {
            "tags": [],
            "needs_background": "light"
          }
        }
      ]
    },
    {
      "cell_type": "code",
      "metadata": {
        "id": "sz1tYomZJIM5",
        "colab_type": "code",
        "colab": {
          "base_uri": "https://localhost:8080/",
          "height": 225
        },
        "outputId": "8e45b5dd-3883-4908-aa17-b5fee0576354"
      },
      "source": [
        "autolib['Slots_taken_sum'].value_counts()"
      ],
      "execution_count": null,
      "outputs": [
        {
          "output_type": "execute_result",
          "data": {
            "text/plain": [
              "0      10235\n",
              "1        545\n",
              "2        476\n",
              "3        405\n",
              "4        309\n",
              "       ...  \n",
              "330        1\n",
              "338        1\n",
              "346        1\n",
              "267        1\n",
              "315        1\n",
              "Name: Slots_taken_sum, Length: 301, dtype: int64"
            ]
          },
          "metadata": {
            "tags": []
          },
          "execution_count": 50
        }
      ]
    },
    {
      "cell_type": "markdown",
      "metadata": {
        "id": "coGEgLwDuK4D",
        "colab_type": "text"
      },
      "source": [
        "Quantile-Quantile (Q-Q) Plot"
      ]
    },
    {
      "cell_type": "code",
      "metadata": {
        "id": "cCDuMZgjtNOI",
        "colab_type": "code",
        "colab": {
          "base_uri": "https://localhost:8080/",
          "height": 279
        },
        "outputId": "4b61b85e-ab5a-4bd1-adbf-2ce0e36dbfd3"
      },
      "source": [
        "# Importing libraries to plot our Q-Q plot\n",
        "from statsmodels.graphics.gofplots import qqplot\n",
        "from matplotlib import pyplot\n",
        "\n",
        "# seed the random number generator\n",
        "seed(1)\n",
        "\n",
        "# generate univariate observations\n",
        "data = autolib[\"BlueCars_taken_sum\"]\n",
        "\n",
        "# q-q plot\n",
        "qqplot(data, line='s')\n",
        "pyplot.show()"
      ],
      "execution_count": null,
      "outputs": [
        {
          "output_type": "display_data",
          "data": {
            "image/png": "[encoded data removed]",
            "text/plain": [
              "<Figure size 432x288 with 1 Axes>"
            ]
          },
          "metadata": {
            "tags": [],
            "needs_background": "light"
          }
        }
      ]
    },
    {
      "cell_type": "code",
      "metadata": {
        "id": "4rkSJ5G8tt9v",
        "colab_type": "code",
        "colab": {
          "base_uri": "https://localhost:8080/",
          "height": 279
        },
        "outputId": "256a7e9a-eb17-4878-b276-6bcaea86dbd4"
      },
      "source": [
        "# seed the random number generator\n",
        "seed(1)\n",
        "\n",
        "# generate univariate observations\n",
        "data = autolib[\"BlueCars_returned_sum\"]\n",
        "\n",
        "# q-q plot\n",
        "qqplot(data, line='s')\n",
        "pyplot.show()"
      ],
      "execution_count": null,
      "outputs": [
        {
          "output_type": "display_data",
          "data": {
            "image/png": "[encoded data removed]",
            "text/plain": [
              "<Figure size 432x288 with 1 Axes>"
            ]
          },
          "metadata": {
            "tags": [],
            "needs_background": "light"
          }
        }
      ]
    },
    {
      "cell_type": "code",
      "metadata": {
        "id": "subhf0V5eRpb",
        "colab_type": "code",
        "colab": {
          "base_uri": "https://localhost:8080/",
          "height": 379
        },
        "outputId": "7e678514-c81b-4fcc-c734-b442f35aca08"
      },
      "source": [
        "autolib['Slots_taken_sum'].value_counts().plot.bar(title='Freq dist of blue cars returns\t')\n",
        "plt.show()"
      ],
      "execution_count": null,
      "outputs": [
        {
          "output_type": "stream",
          "text": [
            "/usr/local/lib/python3.6/dist-packages/matplotlib/backends/backend_agg.py:214: RuntimeWarning: Glyph 9 missing from current font.\n",
            "  font.set_text(s, 0.0, flags=flags)\n",
            "/usr/local/lib/python3.6/dist-packages/matplotlib/backends/backend_agg.py:183: RuntimeWarning: Glyph 9 missing from current font.\n",
            "  font.set_text(s, 0, flags=flags)\n"
          ],
          "name": "stderr"
        },
        {
          "output_type": "display_data",
          "data": {
            "image/png": "[encoded data removed]",
            "text/plain": [
              "<Figure size 432x288 with 1 Axes>"
            ]
          },
          "metadata": {
            "tags": [],
            "needs_background": "light"
          }
        }
      ]
    },
    {
      "cell_type": "code",
      "metadata": {
        "id": "J5D2tmAZhy1h",
        "colab_type": "code",
        "colab": {
          "base_uri": "https://localhost:8080/",
          "height": 1000
        },
        "outputId": "75ebbbf7-b981-4d34-995a-6dd52d96eaca"
      },
      "source": [
        "def percentile_based_outlier(data, threshold=95):\n",
        "    diff = (100 - threshold) / 2\n",
        "    minval, maxval = np.percentile(data, [diff, 100 - diff])\n",
        "    return (data < minval) | (data > maxval)\n",
        "\n",
        "col_names = [\"BlueCars_taken_sum\", \"Utilib_taken_sum\", \"Utilib_14_taken_sum\"]\n",
        "\n",
        "fig, ax = plt.subplots(len(col_names), figsize=(8,40))\n",
        "\n",
        "for i, col_val in enumerate(col_names):\n",
        "    x = autolib[col_val][:1000]\n",
        "    sns.distplot(x, ax=ax[i], rug=True, hist=False)\n",
        "    outliers = x[percentile_based_outlier(x)]\n",
        "    ax[i].plot(outliers, np.zeros_like(outliers), 'ro', clip_on=False)\n",
        "\n",
        "    ax[i].set_title('Outlier detection - {}'.format(col_val), fontsize=10)\n",
        "    ax[i].set_xlabel(col_val, fontsize=8)\n",
        "\n",
        "plt.show()"
      ],
      "execution_count": null,
      "outputs": [
        {
          "output_type": "display_data",
          "data": {
            "image/png": "[encoded data removed]",
            "text/plain": [
              "<Figure size 576x2880 with 3 Axes>"
            ]
          },
          "metadata": {
            "tags": [],
            "needs_background": "light"
          }
        }
      ]
    },
    {
      "cell_type": "code",
      "metadata": {
        "id": "QywaHmiRguSo",
        "colab_type": "code",
        "colab": {
          "base_uri": "https://localhost:8080/",
          "height": 487
        },
        "outputId": "9dd6ada1-5f49-4767-fa1c-d2c63cbde817"
      },
      "source": [
        "f, ax = plt.subplots(figsize=(8,6))\n",
        "corr = autolib.corr()\n",
        "sns.heatmap(corr, xticklabels=corr.columns.values,yticklabels=corr.columns.values )\n",
        "plt.show()"
      ],
      "execution_count": null,
      "outputs": [
        {
          "output_type": "display_data",
          "data": {
            "image/png": "[encoded data removed]",
            "text/plain": [
              "<Figure size 576x432 with 2 Axes>"
            ]
          },
          "metadata": {
            "tags": [],
            "needs_background": "light"
          }
        }
      ]
    },
    {
      "cell_type": "markdown",
      "metadata": {
        "id": "1xS9HeP6jVO0",
        "colab_type": "text"
      },
      "source": [
        "Bivariate Analysis"
      ]
    },
    {
      "cell_type": "code",
      "metadata": {
        "id": "VGGKOQY3jbZC",
        "colab_type": "code",
        "colab": {
          "base_uri": "https://localhost:8080/",
          "height": 296
        },
        "outputId": "d91c1e12-f46f-49ea-c589-f796880fa6c9"
      },
      "source": [
        "##Plotting scatterplot\n",
        "plt.scatter(autolib['BlueCars_taken_sum'], autolib['Utilib_14_taken_sum'])\n",
        "plt.title('BlueCars_taken_sum vs Utilib_14_taken_sum')\n",
        "plt.xlabel('BlueCars_taken_sum')\n",
        "plt.ylabel('Utilib_14_taken_sum')\n",
        "plt.show()"
      ],
      "execution_count": null,
      "outputs": [
        {
          "output_type": "display_data",
          "data": {
            "image/png": "[encoded data removed]",
            "text/plain": [
              "<Figure size 432x288 with 1 Axes>"
            ]
          },
          "metadata": {
            "tags": [],
            "needs_background": "light"
          }
        }
      ]
    },
    {
      "cell_type": "code",
      "metadata": {
        "id": "yO-ZzP59n4bs",
        "colab_type": "code",
        "colab": {
          "base_uri": "https://localhost:8080/",
          "height": 296
        },
        "outputId": "cd3fbcd6-3fcb-4421-865d-4b2238b90faf"
      },
      "source": [
        "plt.scatter(autolib['Utilib_taken_sum'], autolib['Utilib_14_taken_sum'])\n",
        "plt.title('Utilib_taken_sum vs Utilib_14_taken_sum')\n",
        "plt.xlabel('Utilib_taken_sum')\n",
        "plt.ylabel('Utilib_14_taken_sum')\n",
        "plt.show()"
      ],
      "execution_count": null,
      "outputs": [
        {
          "output_type": "display_data",
          "data": {
            "image/png": "[encoded data removed]",
            "text/plain": [
              "<Figure size 432x288 with 1 Axes>"
            ]
          },
          "metadata": {
            "tags": [],
            "needs_background": "light"
          }
        }
      ]
    },
    {
      "cell_type": "code",
      "metadata": {
        "id": "BYSDlWUboLWI",
        "colab_type": "code",
        "colab": {
          "base_uri": "https://localhost:8080/",
          "height": 296
        },
        "outputId": "6cd87053-f0f4-4b0f-aacc-1918b7529e52"
      },
      "source": [
        "plt.scatter(autolib['BlueCars_taken_sum'], autolib['Utilib_taken_sum'])\n",
        "plt.title('BlueCars_taken_sum vs Utilib_taken_sum')\n",
        "plt.xlabel('BlueCars_taken_sum')\n",
        "plt.ylabel('Utilib_taken_sum')\n",
        "plt.show()"
      ],
      "execution_count": null,
      "outputs": [
        {
          "output_type": "display_data",
          "data": {
            "image/png": "[encoded data removed]",
            "text/plain": [
              "<Figure size 432x288 with 1 Axes>"
            ]
          },
          "metadata": {
            "tags": [],
            "needs_background": "light"
          }
        }
      ]
    },
    {
      "cell_type": "code",
      "metadata": {
        "id": "JEAQ3B-xzYl7",
        "colab_type": "code",
        "colab": {
          "base_uri": "https://localhost:8080/",
          "height": 301
        },
        "outputId": "0f22866d-d25d-4237-bbac-a5caa77bcd93"
      },
      "source": [
        "\n",
        "autolib[[\"BlueCars_taken_sum\",\"Utilib_taken_sum\" ]].plot()\n",
        "plt.title(\"Trend in the numbers of blue and Utilib car taken \", fontsize=14, y=1.015)\n",
        "plt.ylabel('BlueCars_taken_sum')\n",
        "plt.xlabel('Utilib_taken_sum')\n",
        "plt.show()"
      ],
      "execution_count": null,
      "outputs": [
        {
          "output_type": "display_data",
          "data": {
            "image/png": "[encoded data removed]",
            "text/plain": [
              "<Figure size 432x288 with 1 Axes>"
            ]
          },
          "metadata": {
            "tags": [],
            "needs_background": "light"
          }
        }
      ]
    },
    {
      "cell_type": "code",
      "metadata": {
        "id": "t8DkhMKH0hAW",
        "colab_type": "code",
        "colab": {
          "base_uri": "https://localhost:8080/",
          "height": 301
        },
        "outputId": "ff0ff75e-4185-407f-949f-3d59ab6582f3"
      },
      "source": [
        "autolib[[\"BlueCars_taken_sum\",\"Utilib_14_taken_sum\" ]].plot()\n",
        "plt.title(\"Trend in the numbers of blue and Utilib_14 car taken \", fontsize=14, y=1.015)\n",
        "plt.ylabel('BlueCars_taken_sum')\n",
        "plt.xlabel('Utilib_14_taken_sum')\n",
        "plt.show()"
      ],
      "execution_count": null,
      "outputs": [
        {
          "output_type": "display_data",
          "data": {
            "image/png": "[encoded data removed]",
            "text/plain": [
              "<Figure size 432x288 with 1 Axes>"
            ]
          },
          "metadata": {
            "tags": [],
            "needs_background": "light"
          }
        }
      ]
    },
    {
      "cell_type": "code",
      "metadata": {
        "id": "DxjI0VfFx7C-",
        "colab_type": "code",
        "colab": {
          "base_uri": "https://localhost:8080/",
          "height": 52
        },
        "outputId": "bf92bb14-7424-41d8-ea47-999089a0f666"
      },
      "source": [
        "pearson_coeff = autolib[\"BlueCars_taken_sum\"].corr(autolib[\"Utilib_taken_sum\"], method=\"pearson\") \n",
        "print(pearson_coeff)\n",
        "coeff = autolib[\"BlueCars_taken_sum\"].corr(autolib[\"Utilib_taken_sum\"]) \n",
        "print(coeff)"
      ],
      "execution_count": null,
      "outputs": [
        {
          "output_type": "stream",
          "text": [
            "0.8938325700709975\n",
            "0.8938325700709975\n"
          ],
          "name": "stdout"
        }
      ]
    },
    {
      "cell_type": "markdown",
      "metadata": {
        "id": "QZwmZQmny1Ik",
        "colab_type": "text"
      },
      "source": [
        "The car taken sum  and the utilib taken sum are highly correlated"
      ]
    },
    {
      "cell_type": "code",
      "metadata": {
        "id": "KW_JQGdNyZZ7",
        "colab_type": "code",
        "colab": {}
      },
      "source": [
        "autolib.groupby(\"day_type\").value_counts()"
      ],
      "execution_count": null,
      "outputs": []
    },
    {
      "cell_type": "code",
      "metadata": {
        "id": "uk3w5TRy1mgC",
        "colab_type": "code",
        "colab": {
          "base_uri": "https://localhost:8080/",
          "height": 69
        },
        "outputId": "eae9f0b7-6ec8-4044-c4c6-ca7b4a8b69f3"
      },
      "source": [
        "autolib[\"day_type\"].value_counts()"
      ],
      "execution_count": null,
      "outputs": [
        {
          "output_type": "execute_result",
          "data": {
            "text/plain": [
              "weekday    11544\n",
              "weekend     4541\n",
              "Name: day_type, dtype: int64"
            ]
          },
          "metadata": {
            "tags": []
          },
          "execution_count": 45
        }
      ]
    },
    {
      "cell_type": "markdown",
      "metadata": {
        "id": "1DTPNKf6LTru",
        "colab_type": "text"
      },
      "source": [
        "\n",
        "\n",
        "\n",
        "\n",
        " Hypothesis Testing "
      ]
    },
    {
      "cell_type": "code",
      "metadata": {
        "id": "uPKB8dos_-We",
        "colab_type": "code",
        "colab": {
          "base_uri": "https://localhost:8080/",
          "height": 35
        },
        "outputId": "8b718753-6cf3-4eec-ea9a-6e0e1da7fada"
      },
      "source": [
        "aver1 = statistics.mean(autolib[\"BlueCars_taken_sum\"])\n",
        "(round(aver1, 5))"
      ],
      "execution_count": null,
      "outputs": [
        {
          "output_type": "execute_result",
          "data": {
            "text/plain": [
              "125.92695"
            ]
          },
          "metadata": {
            "tags": []
          },
          "execution_count": 4
        }
      ]
    },
    {
      "cell_type": "code",
      "metadata": {
        "id": "5ZfFdtsPC2qZ",
        "colab_type": "code",
        "colab": {
          "base_uri": "https://localhost:8080/",
          "height": 35
        },
        "outputId": "772fa1be-1869-4a4c-9749-0d4240af58d1"
      },
      "source": [
        "aver2 = statistics.mean(autolib[\"stats.shapiro(data.Control.dropna())\"])\n",
        "(round(aver2, 5))"
      ],
      "execution_count": null,
      "outputs": [
        {
          "output_type": "execute_result",
          "data": {
            "text/plain": [
              "3.69829"
            ]
          },
          "metadata": {
            "tags": []
          },
          "execution_count": 12
        }
      ]
    },
    {
      "cell_type": "code",
      "metadata": {
        "id": "WqyNe6JSc7B2",
        "colab_type": "code",
        "colab": {
          "base_uri": "https://localhost:8080/",
          "height": 89
        },
        "outputId": "8f881fe0-9ff0-4eb1-b3b0-f28c35361e48"
      },
      "source": [
        "stats.shapiro(autolib.BlueCars_taken_sum.dropna())"
      ],
      "execution_count": null,
      "outputs": [
        {
          "output_type": "stream",
          "text": [
            "/usr/local/lib/python3.6/dist-packages/scipy/stats/morestats.py:1676: UserWarning: p-value may not be accurate for N > 5000.\n",
            "  warnings.warn(\"p-value may not be accurate for N > 5000.\")\n"
          ],
          "name": "stderr"
        },
        {
          "output_type": "execute_result",
          "data": {
            "text/plain": [
              "(0.661232590675354, 0.0)"
            ]
          },
          "metadata": {
            "tags": []
          },
          "execution_count": 22
        }
      ]
    },
    {
      "cell_type": "markdown",
      "metadata": {
        "id": "15Kt3SzTd2Zs",
        "colab_type": "text"
      },
      "source": [
        "Since p > 0.05 for both data sets, they both conform to the normality criterion"
      ]
    },
    {
      "cell_type": "code",
      "metadata": {
        "id": "s_cy0qlRd4Sw",
        "colab_type": "code",
        "colab": {
          "base_uri": "https://localhost:8080/",
          "height": 35
        },
        "outputId": "c7f3cc1c-4cbf-46a4-e1a4-d73e2ba46b0c"
      },
      "source": [
        "stats.ttest_1samp(autolib[\"BlueCars_taken_sum\"],100)\n"
      ],
      "execution_count": null,
      "outputs": [
        {
          "output_type": "execute_result",
          "data": {
            "text/plain": [
              "Ttest_1sampResult(statistic=17.733317385626133, pvalue=1.0679495852947432e-69)"
            ]
          },
          "metadata": {
            "tags": []
          },
          "execution_count": 25
        }
      ]
    },
    {
      "cell_type": "code",
      "metadata": {
        "id": "ty7-NXUvN0wm",
        "colab_type": "code",
        "colab": {
          "base_uri": "https://localhost:8080/",
          "height": 260
        },
        "outputId": "810b2620-3211-43bc-d8e3-0601d2210c39"
      },
      "source": [
        "autolib.iloc[100]"
      ],
      "execution_count": null,
      "outputs": [
        {
          "output_type": "execute_result",
          "data": {
            "text/plain": [
              "Postal code                   75001\n",
              "date                      4/14/2018\n",
              "n_daily_data_points            1440\n",
              "dayOfWeek                         5\n",
              "day_type                    weekend\n",
              "BlueCars_taken_sum              219\n",
              "BlueCars_returned_sum           219\n",
              "Utilib_taken_sum                  5\n",
              "Utilib_returned_sum               5\n",
              "Utilib_14_taken_sum              13\n",
              "Utilib_14_returned_sum           13\n",
              "Slots_freed_sum                  35\n",
              "Slots_taken_sum                  35\n",
              "Name: 100, dtype: object"
            ]
          },
          "metadata": {
            "tags": []
          },
          "execution_count": 18
        }
      ]
    },
    {
      "cell_type": "code",
      "metadata": {
        "id": "z417D_VTesks",
        "colab_type": "code",
        "colab": {
          "base_uri": "https://localhost:8080/",
          "height": 453
        },
        "outputId": "8ebd38ce-181b-4125-c6f7-3565149d0738"
      },
      "source": [
        "weekdays= autolib.loc[autolib.day_type=='weekday']\n",
        "weekdays"
      ],
      "execution_count": null,
      "outputs": [
        {
          "output_type": "execute_result",
          "data": {
            "text/html": [
              "<div>\n",
              "<style scoped>\n",
              "    .dataframe tbody tr th:only-of-type {\n",
              "        vertical-align: middle;\n",
              "    }\n",
              "\n",
              "    .dataframe tbody tr th {\n",
              "        vertical-align: top;\n",
              "    }\n",
              "\n",
              "    .dataframe thead th {\n",
              "        text-align: right;\n",
              "    }\n",
              "</style>\n",
              "<table border=\"1\" class=\"dataframe\">\n",
              "  <thead>\n",
              "    <tr style=\"text-align: right;\">\n",
              "      <th></th>\n",
              "      <th>Postal code</th>\n",
              "      <th>date</th>\n",
              "      <th>n_daily_data_points</th>\n",
              "      <th>dayOfWeek</th>\n",
              "      <th>day_type</th>\n",
              "      <th>BlueCars_taken_sum</th>\n",
              "      <th>BlueCars_returned_sum</th>\n",
              "      <th>Utilib_taken_sum</th>\n",
              "      <th>Utilib_returned_sum</th>\n",
              "      <th>Utilib_14_taken_sum</th>\n",
              "      <th>Utilib_14_returned_sum</th>\n",
              "      <th>Slots_freed_sum</th>\n",
              "      <th>Slots_taken_sum</th>\n",
              "    </tr>\n",
              "  </thead>\n",
              "  <tbody>\n",
              "    <tr>\n",
              "      <th>0</th>\n",
              "      <td>75001</td>\n",
              "      <td>1/1/2018</td>\n",
              "      <td>1440</td>\n",
              "      <td>0</td>\n",
              "      <td>weekday</td>\n",
              "      <td>110</td>\n",
              "      <td>103</td>\n",
              "      <td>3</td>\n",
              "      <td>2</td>\n",
              "      <td>10</td>\n",
              "      <td>9</td>\n",
              "      <td>22</td>\n",
              "      <td>20</td>\n",
              "    </tr>\n",
              "    <tr>\n",
              "      <th>1</th>\n",
              "      <td>75001</td>\n",
              "      <td>1/2/2018</td>\n",
              "      <td>1438</td>\n",
              "      <td>1</td>\n",
              "      <td>weekday</td>\n",
              "      <td>98</td>\n",
              "      <td>94</td>\n",
              "      <td>1</td>\n",
              "      <td>1</td>\n",
              "      <td>8</td>\n",
              "      <td>8</td>\n",
              "      <td>23</td>\n",
              "      <td>22</td>\n",
              "    </tr>\n",
              "    <tr>\n",
              "      <th>2</th>\n",
              "      <td>75001</td>\n",
              "      <td>1/3/2018</td>\n",
              "      <td>1439</td>\n",
              "      <td>2</td>\n",
              "      <td>weekday</td>\n",
              "      <td>138</td>\n",
              "      <td>139</td>\n",
              "      <td>0</td>\n",
              "      <td>0</td>\n",
              "      <td>2</td>\n",
              "      <td>2</td>\n",
              "      <td>27</td>\n",
              "      <td>27</td>\n",
              "    </tr>\n",
              "    <tr>\n",
              "      <th>3</th>\n",
              "      <td>75001</td>\n",
              "      <td>1/4/2018</td>\n",
              "      <td>1320</td>\n",
              "      <td>3</td>\n",
              "      <td>weekday</td>\n",
              "      <td>104</td>\n",
              "      <td>104</td>\n",
              "      <td>2</td>\n",
              "      <td>2</td>\n",
              "      <td>9</td>\n",
              "      <td>8</td>\n",
              "      <td>25</td>\n",
              "      <td>21</td>\n",
              "    </tr>\n",
              "    <tr>\n",
              "      <th>4</th>\n",
              "      <td>75001</td>\n",
              "      <td>1/5/2018</td>\n",
              "      <td>1440</td>\n",
              "      <td>4</td>\n",
              "      <td>weekday</td>\n",
              "      <td>114</td>\n",
              "      <td>117</td>\n",
              "      <td>3</td>\n",
              "      <td>3</td>\n",
              "      <td>6</td>\n",
              "      <td>6</td>\n",
              "      <td>18</td>\n",
              "      <td>20</td>\n",
              "    </tr>\n",
              "    <tr>\n",
              "      <th>...</th>\n",
              "      <td>...</td>\n",
              "      <td>...</td>\n",
              "      <td>...</td>\n",
              "      <td>...</td>\n",
              "      <td>...</td>\n",
              "      <td>...</td>\n",
              "      <td>...</td>\n",
              "      <td>...</td>\n",
              "      <td>...</td>\n",
              "      <td>...</td>\n",
              "      <td>...</td>\n",
              "      <td>...</td>\n",
              "      <td>...</td>\n",
              "    </tr>\n",
              "    <tr>\n",
              "      <th>16078</th>\n",
              "      <td>95880</td>\n",
              "      <td>6/13/2018</td>\n",
              "      <td>1440</td>\n",
              "      <td>2</td>\n",
              "      <td>weekday</td>\n",
              "      <td>12</td>\n",
              "      <td>13</td>\n",
              "      <td>0</td>\n",
              "      <td>0</td>\n",
              "      <td>1</td>\n",
              "      <td>1</td>\n",
              "      <td>0</td>\n",
              "      <td>0</td>\n",
              "    </tr>\n",
              "    <tr>\n",
              "      <th>16079</th>\n",
              "      <td>95880</td>\n",
              "      <td>6/14/2018</td>\n",
              "      <td>1439</td>\n",
              "      <td>3</td>\n",
              "      <td>weekday</td>\n",
              "      <td>15</td>\n",
              "      <td>13</td>\n",
              "      <td>0</td>\n",
              "      <td>0</td>\n",
              "      <td>0</td>\n",
              "      <td>0</td>\n",
              "      <td>0</td>\n",
              "      <td>0</td>\n",
              "    </tr>\n",
              "    <tr>\n",
              "      <th>16080</th>\n",
              "      <td>95880</td>\n",
              "      <td>6/15/2018</td>\n",
              "      <td>1440</td>\n",
              "      <td>4</td>\n",
              "      <td>weekday</td>\n",
              "      <td>15</td>\n",
              "      <td>10</td>\n",
              "      <td>0</td>\n",
              "      <td>0</td>\n",
              "      <td>2</td>\n",
              "      <td>3</td>\n",
              "      <td>0</td>\n",
              "      <td>0</td>\n",
              "    </tr>\n",
              "    <tr>\n",
              "      <th>16083</th>\n",
              "      <td>95880</td>\n",
              "      <td>6/18/2018</td>\n",
              "      <td>1440</td>\n",
              "      <td>0</td>\n",
              "      <td>weekday</td>\n",
              "      <td>11</td>\n",
              "      <td>14</td>\n",
              "      <td>3</td>\n",
              "      <td>5</td>\n",
              "      <td>2</td>\n",
              "      <td>2</td>\n",
              "      <td>0</td>\n",
              "      <td>0</td>\n",
              "    </tr>\n",
              "    <tr>\n",
              "      <th>16084</th>\n",
              "      <td>95880</td>\n",
              "      <td>6/19/2018</td>\n",
              "      <td>1370</td>\n",
              "      <td>1</td>\n",
              "      <td>weekday</td>\n",
              "      <td>2</td>\n",
              "      <td>2</td>\n",
              "      <td>2</td>\n",
              "      <td>1</td>\n",
              "      <td>0</td>\n",
              "      <td>0</td>\n",
              "      <td>0</td>\n",
              "      <td>0</td>\n",
              "    </tr>\n",
              "  </tbody>\n",
              "</table>\n",
              "<p>11544 rows × 13 columns</p>\n",
              "</div>"
            ],
            "text/plain": [
              "       Postal code       date  ...  Slots_freed_sum  Slots_taken_sum\n",
              "0            75001   1/1/2018  ...               22               20\n",
              "1            75001   1/2/2018  ...               23               22\n",
              "2            75001   1/3/2018  ...               27               27\n",
              "3            75001   1/4/2018  ...               25               21\n",
              "4            75001   1/5/2018  ...               18               20\n",
              "...            ...        ...  ...              ...              ...\n",
              "16078        95880  6/13/2018  ...                0                0\n",
              "16079        95880  6/14/2018  ...                0                0\n",
              "16080        95880  6/15/2018  ...                0                0\n",
              "16083        95880  6/18/2018  ...                0                0\n",
              "16084        95880  6/19/2018  ...                0                0\n",
              "\n",
              "[11544 rows x 13 columns]"
            ]
          },
          "metadata": {
            "tags": []
          },
          "execution_count": 72
        }
      ]
    },
    {
      "cell_type": "code",
      "metadata": {
        "id": "mm6KZJcNOujk",
        "colab_type": "code",
        "colab": {
          "base_uri": "https://localhost:8080/",
          "height": 415
        },
        "outputId": "28b6de52-1dc4-47f6-ed15-1afe77280537"
      },
      "source": [
        "blue_cars_taken = weekdays.loc[:,[\"BlueCars_taken_sum\"]]\n",
        "blue_cars_taken"
      ],
      "execution_count": null,
      "outputs": [
        {
          "output_type": "execute_result",
          "data": {
            "text/html": [
              "<div>\n",
              "<style scoped>\n",
              "    .dataframe tbody tr th:only-of-type {\n",
              "        vertical-align: middle;\n",
              "    }\n",
              "\n",
              "    .dataframe tbody tr th {\n",
              "        vertical-align: top;\n",
              "    }\n",
              "\n",
              "    .dataframe thead th {\n",
              "        text-align: right;\n",
              "    }\n",
              "</style>\n",
              "<table border=\"1\" class=\"dataframe\">\n",
              "  <thead>\n",
              "    <tr style=\"text-align: right;\">\n",
              "      <th></th>\n",
              "      <th>BlueCars_taken_sum</th>\n",
              "    </tr>\n",
              "  </thead>\n",
              "  <tbody>\n",
              "    <tr>\n",
              "      <th>0</th>\n",
              "      <td>110</td>\n",
              "    </tr>\n",
              "    <tr>\n",
              "      <th>1</th>\n",
              "      <td>98</td>\n",
              "    </tr>\n",
              "    <tr>\n",
              "      <th>2</th>\n",
              "      <td>138</td>\n",
              "    </tr>\n",
              "    <tr>\n",
              "      <th>3</th>\n",
              "      <td>104</td>\n",
              "    </tr>\n",
              "    <tr>\n",
              "      <th>4</th>\n",
              "      <td>114</td>\n",
              "    </tr>\n",
              "    <tr>\n",
              "      <th>...</th>\n",
              "      <td>...</td>\n",
              "    </tr>\n",
              "    <tr>\n",
              "      <th>16078</th>\n",
              "      <td>12</td>\n",
              "    </tr>\n",
              "    <tr>\n",
              "      <th>16079</th>\n",
              "      <td>15</td>\n",
              "    </tr>\n",
              "    <tr>\n",
              "      <th>16080</th>\n",
              "      <td>15</td>\n",
              "    </tr>\n",
              "    <tr>\n",
              "      <th>16083</th>\n",
              "      <td>11</td>\n",
              "    </tr>\n",
              "    <tr>\n",
              "      <th>16084</th>\n",
              "      <td>2</td>\n",
              "    </tr>\n",
              "  </tbody>\n",
              "</table>\n",
              "<p>11544 rows × 1 columns</p>\n",
              "</div>"
            ],
            "text/plain": [
              "       BlueCars_taken_sum\n",
              "0                     110\n",
              "1                      98\n",
              "2                     138\n",
              "3                     104\n",
              "4                     114\n",
              "...                   ...\n",
              "16078                  12\n",
              "16079                  15\n",
              "16080                  15\n",
              "16083                  11\n",
              "16084                   2\n",
              "\n",
              "[11544 rows x 1 columns]"
            ]
          },
          "metadata": {
            "tags": []
          },
          "execution_count": 73
        }
      ]
    },
    {
      "cell_type": "code",
      "metadata": {
        "id": "oYF5Kt5R5uLn",
        "colab_type": "code",
        "colab": {
          "base_uri": "https://localhost:8080/",
          "height": 52
        },
        "outputId": "8e76891c-2b02-4e1f-9e40-72d93806f3c4"
      },
      "source": [
        "blue_taken_par = blue_cars_taken.mean()\n",
        "blue_taken_par"
      ],
      "execution_count": null,
      "outputs": [
        {
          "output_type": "execute_result",
          "data": {
            "text/plain": [
              "BlueCars_taken_sum    116.028673\n",
              "dtype: float64"
            ]
          },
          "metadata": {
            "tags": []
          },
          "execution_count": 173
        }
      ]
    },
    {
      "cell_type": "code",
      "metadata": {
        "id": "2uCXhQ8_5-Fr",
        "colab_type": "code",
        "colab": {
          "base_uri": "https://localhost:8080/",
          "height": 52
        },
        "outputId": "3a0c8e3d-a30c-4f5e-8fcf-b4a37115fc40"
      },
      "source": [
        "std_taken = np.std(blue_cars_taken)\n",
        "std_taken"
      ],
      "execution_count": null,
      "outputs": [
        {
          "output_type": "execute_result",
          "data": {
            "text/plain": [
              "BlueCars_taken_sum    169.619558\n",
              "dtype: float64"
            ]
          },
          "metadata": {
            "tags": []
          },
          "execution_count": 174
        }
      ]
    },
    {
      "cell_type": "code",
      "metadata": {
        "id": "V-spto5l6h_P",
        "colab_type": "code",
        "colab": {
          "base_uri": "https://localhost:8080/",
          "height": 139
        },
        "outputId": "1f848d88-e1fc-425d-a433-4ff825be3555"
      },
      "source": [
        "fitted_data_par = scipy.stats.distributions.norm.pdf(blue_cars_taken,116.028673, 169.619558)\n",
        "fitted_data_par"
      ],
      "execution_count": null,
      "outputs": [
        {
          "output_type": "execute_result",
          "data": {
            "text/plain": [
              "array([[0.0023505 ],\n",
              "       [0.00233873],\n",
              "       [0.00233233],\n",
              "       ...,\n",
              "       [0.00196969],\n",
              "       [0.00194168],\n",
              "       [0.00187628]])"
            ]
          },
          "metadata": {
            "tags": []
          },
          "execution_count": 175
        }
      ]
    },
    {
      "cell_type": "code",
      "metadata": {
        "id": "CRqdOD7h8JgQ",
        "colab_type": "code",
        "colab": {
          "base_uri": "https://localhost:8080/",
          "height": 35
        },
        "outputId": "ddcfeed2-4046-4d24-d926-733433494d2c"
      },
      "source": [
        "data_par_mean = fitted_data_par.mean()\n",
        "data_par_mean\n"
      ],
      "execution_count": null,
      "outputs": [
        {
          "output_type": "execute_result",
          "data": {
            "text/plain": [
              "0.001858294825932965"
            ]
          },
          "metadata": {
            "tags": []
          },
          "execution_count": 177
        }
      ]
    },
    {
      "cell_type": "code",
      "metadata": {
        "id": "qu5_G5j8JNZf",
        "colab_type": "code",
        "colab": {
          "base_uri": "https://localhost:8080/",
          "height": 415
        },
        "outputId": "54879427-7938-43cb-e05b-5fe34a783b57"
      },
      "source": [
        "data_copy_1 =  weekdays.loc[:,[\"BlueCars_taken_sum\"]]\n",
        "data_copy_1"
      ],
      "execution_count": null,
      "outputs": [
        {
          "output_type": "execute_result",
          "data": {
            "text/html": [
              "<div>\n",
              "<style scoped>\n",
              "    .dataframe tbody tr th:only-of-type {\n",
              "        vertical-align: middle;\n",
              "    }\n",
              "\n",
              "    .dataframe tbody tr th {\n",
              "        vertical-align: top;\n",
              "    }\n",
              "\n",
              "    .dataframe thead th {\n",
              "        text-align: right;\n",
              "    }\n",
              "</style>\n",
              "<table border=\"1\" class=\"dataframe\">\n",
              "  <thead>\n",
              "    <tr style=\"text-align: right;\">\n",
              "      <th></th>\n",
              "      <th>BlueCars_taken_sum</th>\n",
              "    </tr>\n",
              "  </thead>\n",
              "  <tbody>\n",
              "    <tr>\n",
              "      <th>0</th>\n",
              "      <td>110</td>\n",
              "    </tr>\n",
              "    <tr>\n",
              "      <th>1</th>\n",
              "      <td>98</td>\n",
              "    </tr>\n",
              "    <tr>\n",
              "      <th>2</th>\n",
              "      <td>138</td>\n",
              "    </tr>\n",
              "    <tr>\n",
              "      <th>3</th>\n",
              "      <td>104</td>\n",
              "    </tr>\n",
              "    <tr>\n",
              "      <th>4</th>\n",
              "      <td>114</td>\n",
              "    </tr>\n",
              "    <tr>\n",
              "      <th>...</th>\n",
              "      <td>...</td>\n",
              "    </tr>\n",
              "    <tr>\n",
              "      <th>16078</th>\n",
              "      <td>12</td>\n",
              "    </tr>\n",
              "    <tr>\n",
              "      <th>16079</th>\n",
              "      <td>15</td>\n",
              "    </tr>\n",
              "    <tr>\n",
              "      <th>16080</th>\n",
              "      <td>15</td>\n",
              "    </tr>\n",
              "    <tr>\n",
              "      <th>16083</th>\n",
              "      <td>11</td>\n",
              "    </tr>\n",
              "    <tr>\n",
              "      <th>16084</th>\n",
              "      <td>2</td>\n",
              "    </tr>\n",
              "  </tbody>\n",
              "</table>\n",
              "<p>11544 rows × 1 columns</p>\n",
              "</div>"
            ],
            "text/plain": [
              "       BlueCars_taken_sum\n",
              "0                     110\n",
              "1                      98\n",
              "2                     138\n",
              "3                     104\n",
              "4                     114\n",
              "...                   ...\n",
              "16078                  12\n",
              "16079                  15\n",
              "16080                  15\n",
              "16083                  11\n",
              "16084                   2\n",
              "\n",
              "[11544 rows x 1 columns]"
            ]
          },
          "metadata": {
            "tags": []
          },
          "execution_count": 193
        }
      ]
    },
    {
      "cell_type": "code",
      "metadata": {
        "id": "6ZwPFNHxPlmY",
        "colab_type": "code",
        "colab": {
          "base_uri": "https://localhost:8080/",
          "height": 415
        },
        "outputId": "cd805e30-880f-4914-fac5-838b64e61b09"
      },
      "source": [
        "blue_cars_returned = weekdays.loc[:,[\"BlueCars_returned_sum\"]]\n",
        "blue_cars_returned"
      ],
      "execution_count": null,
      "outputs": [
        {
          "output_type": "execute_result",
          "data": {
            "text/html": [
              "<div>\n",
              "<style scoped>\n",
              "    .dataframe tbody tr th:only-of-type {\n",
              "        vertical-align: middle;\n",
              "    }\n",
              "\n",
              "    .dataframe tbody tr th {\n",
              "        vertical-align: top;\n",
              "    }\n",
              "\n",
              "    .dataframe thead th {\n",
              "        text-align: right;\n",
              "    }\n",
              "</style>\n",
              "<table border=\"1\" class=\"dataframe\">\n",
              "  <thead>\n",
              "    <tr style=\"text-align: right;\">\n",
              "      <th></th>\n",
              "      <th>BlueCars_returned_sum</th>\n",
              "    </tr>\n",
              "  </thead>\n",
              "  <tbody>\n",
              "    <tr>\n",
              "      <th>0</th>\n",
              "      <td>103</td>\n",
              "    </tr>\n",
              "    <tr>\n",
              "      <th>1</th>\n",
              "      <td>94</td>\n",
              "    </tr>\n",
              "    <tr>\n",
              "      <th>2</th>\n",
              "      <td>139</td>\n",
              "    </tr>\n",
              "    <tr>\n",
              "      <th>3</th>\n",
              "      <td>104</td>\n",
              "    </tr>\n",
              "    <tr>\n",
              "      <th>4</th>\n",
              "      <td>117</td>\n",
              "    </tr>\n",
              "    <tr>\n",
              "      <th>...</th>\n",
              "      <td>...</td>\n",
              "    </tr>\n",
              "    <tr>\n",
              "      <th>16078</th>\n",
              "      <td>13</td>\n",
              "    </tr>\n",
              "    <tr>\n",
              "      <th>16079</th>\n",
              "      <td>13</td>\n",
              "    </tr>\n",
              "    <tr>\n",
              "      <th>16080</th>\n",
              "      <td>10</td>\n",
              "    </tr>\n",
              "    <tr>\n",
              "      <th>16083</th>\n",
              "      <td>14</td>\n",
              "    </tr>\n",
              "    <tr>\n",
              "      <th>16084</th>\n",
              "      <td>2</td>\n",
              "    </tr>\n",
              "  </tbody>\n",
              "</table>\n",
              "<p>11544 rows × 1 columns</p>\n",
              "</div>"
            ],
            "text/plain": [
              "       BlueCars_returned_sum\n",
              "0                        103\n",
              "1                         94\n",
              "2                        139\n",
              "3                        104\n",
              "4                        117\n",
              "...                      ...\n",
              "16078                     13\n",
              "16079                     13\n",
              "16080                     10\n",
              "16083                     14\n",
              "16084                      2\n",
              "\n",
              "[11544 rows x 1 columns]"
            ]
          },
          "metadata": {
            "tags": []
          },
          "execution_count": 74
        }
      ]
    },
    {
      "cell_type": "code",
      "metadata": {
        "id": "ivBcIMuxkgX-",
        "colab_type": "code",
        "colab": {
          "base_uri": "https://localhost:8080/",
          "height": 52
        },
        "outputId": "d64bd20b-e6a9-423e-eb42-5b8ab25cc075"
      },
      "source": [
        "blue_returned_par = blue_cars_returned.mean()\n",
        "blue_returned_par"
      ],
      "execution_count": null,
      "outputs": [
        {
          "output_type": "execute_result",
          "data": {
            "text/plain": [
              "BlueCars_returned_sum    115.63938\n",
              "dtype: float64"
            ]
          },
          "metadata": {
            "tags": []
          },
          "execution_count": 103
        }
      ]
    },
    {
      "cell_type": "markdown",
      "metadata": {
        "id": "3u-zWonyuohA",
        "colab_type": "text"
      },
      "source": [
        "Sampling and testing "
      ]
    },
    {
      "cell_type": "code",
      "metadata": {
        "id": "Ux2X0m8rRG5D",
        "colab_type": "code",
        "colab": {
          "base_uri": "https://localhost:8080/",
          "height": 415
        },
        "outputId": "8e0047ae-a14b-4433-f13f-a50c7c47842e"
      },
      "source": [
        "np.random.seed(5)\n",
        "BlueCars_taken  = blue_cars_taken.sample(n =400)\n",
        "BlueCars_taken"
      ],
      "execution_count": null,
      "outputs": [
        {
          "output_type": "execute_result",
          "data": {
            "text/html": [
              "<div>\n",
              "<style scoped>\n",
              "    .dataframe tbody tr th:only-of-type {\n",
              "        vertical-align: middle;\n",
              "    }\n",
              "\n",
              "    .dataframe tbody tr th {\n",
              "        vertical-align: top;\n",
              "    }\n",
              "\n",
              "    .dataframe thead th {\n",
              "        text-align: right;\n",
              "    }\n",
              "</style>\n",
              "<table border=\"1\" class=\"dataframe\">\n",
              "  <thead>\n",
              "    <tr style=\"text-align: right;\">\n",
              "      <th></th>\n",
              "      <th>BlueCars_taken_sum</th>\n",
              "    </tr>\n",
              "  </thead>\n",
              "  <tbody>\n",
              "    <tr>\n",
              "      <th>7459</th>\n",
              "      <td>161</td>\n",
              "    </tr>\n",
              "    <tr>\n",
              "      <th>4122</th>\n",
              "      <td>9</td>\n",
              "    </tr>\n",
              "    <tr>\n",
              "      <th>7150</th>\n",
              "      <td>28</td>\n",
              "    </tr>\n",
              "    <tr>\n",
              "      <th>2675</th>\n",
              "      <td>370</td>\n",
              "    </tr>\n",
              "    <tr>\n",
              "      <th>4546</th>\n",
              "      <td>359</td>\n",
              "    </tr>\n",
              "    <tr>\n",
              "      <th>...</th>\n",
              "      <td>...</td>\n",
              "    </tr>\n",
              "    <tr>\n",
              "      <th>13851</th>\n",
              "      <td>49</td>\n",
              "    </tr>\n",
              "    <tr>\n",
              "      <th>9710</th>\n",
              "      <td>120</td>\n",
              "    </tr>\n",
              "    <tr>\n",
              "      <th>11825</th>\n",
              "      <td>3</td>\n",
              "    </tr>\n",
              "    <tr>\n",
              "      <th>12971</th>\n",
              "      <td>104</td>\n",
              "    </tr>\n",
              "    <tr>\n",
              "      <th>7759</th>\n",
              "      <td>54</td>\n",
              "    </tr>\n",
              "  </tbody>\n",
              "</table>\n",
              "<p>400 rows × 1 columns</p>\n",
              "</div>"
            ],
            "text/plain": [
              "       BlueCars_taken_sum\n",
              "7459                  161\n",
              "4122                    9\n",
              "7150                   28\n",
              "2675                  370\n",
              "4546                  359\n",
              "...                   ...\n",
              "13851                  49\n",
              "9710                  120\n",
              "11825                   3\n",
              "12971                 104\n",
              "7759                   54\n",
              "\n",
              "[400 rows x 1 columns]"
            ]
          },
          "metadata": {
            "tags": []
          },
          "execution_count": 187
        }
      ]
    },
    {
      "cell_type": "code",
      "metadata": {
        "id": "z7PIGSYuAgJ6",
        "colab_type": "code",
        "colab": {
          "base_uri": "https://localhost:8080/",
          "height": 52
        },
        "outputId": "12093fb4-5ce0-4f03-c7a4-fb59f12a1a97"
      },
      "source": [
        "k = BlueCars_taken.mean()\n",
        "k"
      ],
      "execution_count": null,
      "outputs": [
        {
          "output_type": "execute_result",
          "data": {
            "text/plain": [
              "BlueCars_taken_sum    118.98\n",
              "dtype: float64"
            ]
          },
          "metadata": {
            "tags": []
          },
          "execution_count": 188
        }
      ]
    },
    {
      "cell_type": "code",
      "metadata": {
        "id": "rUAtvO8GA5tG",
        "colab_type": "code",
        "colab": {
          "base_uri": "https://localhost:8080/",
          "height": 52
        },
        "outputId": "031e6bea-1b10-40f2-9a53-68e0ce7c8ec0"
      },
      "source": [
        "n = np.std(BlueCars_taken)\n",
        "n"
      ],
      "execution_count": null,
      "outputs": [
        {
          "output_type": "execute_result",
          "data": {
            "text/plain": [
              "BlueCars_taken_sum    164.86464\n",
              "dtype: float64"
            ]
          },
          "metadata": {
            "tags": []
          },
          "execution_count": 189
        }
      ]
    },
    {
      "cell_type": "code",
      "metadata": {
        "id": "mIbkBTYXlvm7",
        "colab_type": "code",
        "colab": {
          "base_uri": "https://localhost:8080/",
          "height": 35
        },
        "outputId": "43be2219-9b08-4984-b65c-919b37dbf11d"
      },
      "source": [
        "from scipy.stats import norm\n",
        "np.random.seed(50)\n",
        "my_sample = np.random.choice(a =data_copy_1[\"BlueCars_taken_sum\"],size =400)\n",
        "my_sample_1 = norm.fit(my_sample)\n",
        "\n",
        "my_sample_1"
      ],
      "execution_count": null,
      "outputs": [
        {
          "output_type": "execute_result",
          "data": {
            "text/plain": [
              "(120.2725, 171.0340704180018)"
            ]
          },
          "metadata": {
            "tags": []
          },
          "execution_count": 209
        }
      ]
    },
    {
      "cell_type": "code",
      "metadata": {
        "id": "xDdk_pjdl5aA",
        "colab_type": "code",
        "colab": {
          "base_uri": "https://localhost:8080/",
          "height": 415
        },
        "outputId": "fdd754a0-8d53-407a-bf7d-a0696edff7f3"
      },
      "source": [
        "bC_sample = data_copy_1.loc[(data_copy_1['BlueCars_taken_sum']> my_sample_1[0]) &(data_copy_1[\"BlueCars_taken_sum\"]< my_sample_1[1])]\n",
        "bC_sample"
      ],
      "execution_count": null,
      "outputs": [
        {
          "output_type": "execute_result",
          "data": {
            "text/html": [
              "<div>\n",
              "<style scoped>\n",
              "    .dataframe tbody tr th:only-of-type {\n",
              "        vertical-align: middle;\n",
              "    }\n",
              "\n",
              "    .dataframe tbody tr th {\n",
              "        vertical-align: top;\n",
              "    }\n",
              "\n",
              "    .dataframe thead th {\n",
              "        text-align: right;\n",
              "    }\n",
              "</style>\n",
              "<table border=\"1\" class=\"dataframe\">\n",
              "  <thead>\n",
              "    <tr style=\"text-align: right;\">\n",
              "      <th></th>\n",
              "      <th>BlueCars_taken_sum</th>\n",
              "    </tr>\n",
              "  </thead>\n",
              "  <tbody>\n",
              "    <tr>\n",
              "      <th>2</th>\n",
              "      <td>138</td>\n",
              "    </tr>\n",
              "    <tr>\n",
              "      <th>10</th>\n",
              "      <td>125</td>\n",
              "    </tr>\n",
              "    <tr>\n",
              "      <th>11</th>\n",
              "      <td>126</td>\n",
              "    </tr>\n",
              "    <tr>\n",
              "      <th>17</th>\n",
              "      <td>122</td>\n",
              "    </tr>\n",
              "    <tr>\n",
              "      <th>18</th>\n",
              "      <td>130</td>\n",
              "    </tr>\n",
              "    <tr>\n",
              "      <th>...</th>\n",
              "      <td>...</td>\n",
              "    </tr>\n",
              "    <tr>\n",
              "      <th>12169</th>\n",
              "      <td>121</td>\n",
              "    </tr>\n",
              "    <tr>\n",
              "      <th>12176</th>\n",
              "      <td>141</td>\n",
              "    </tr>\n",
              "    <tr>\n",
              "      <th>12180</th>\n",
              "      <td>153</td>\n",
              "    </tr>\n",
              "    <tr>\n",
              "      <th>12187</th>\n",
              "      <td>151</td>\n",
              "    </tr>\n",
              "    <tr>\n",
              "      <th>13115</th>\n",
              "      <td>125</td>\n",
              "    </tr>\n",
              "  </tbody>\n",
              "</table>\n",
              "<p>636 rows × 1 columns</p>\n",
              "</div>"
            ],
            "text/plain": [
              "       BlueCars_taken_sum\n",
              "2                     138\n",
              "10                    125\n",
              "11                    126\n",
              "17                    122\n",
              "18                    130\n",
              "...                   ...\n",
              "12169                 121\n",
              "12176                 141\n",
              "12180                 153\n",
              "12187                 151\n",
              "13115                 125\n",
              "\n",
              "[636 rows x 1 columns]"
            ]
          },
          "metadata": {
            "tags": []
          },
          "execution_count": 210
        }
      ]
    },
    {
      "cell_type": "markdown",
      "metadata": {
        "id": "_2wvpjH3mBXh",
        "colab_type": "text"
      },
      "source": [
        "Testing for normality"
      ]
    },
    {
      "cell_type": "code",
      "metadata": {
        "id": "t8Ah2aITlBzb",
        "colab_type": "code",
        "colab": {
          "base_uri": "https://localhost:8080/",
          "height": 121
        },
        "outputId": "d4708c5d-c493-4cd7-b5df-39eec5543ba0"
      },
      "source": [
        "# Example of the Anderson-Darling Normality Test\n",
        "from scipy.stats import anderson\n",
        "data = autolib[\"BlueCars_returned_sum\"]\n",
        "result = anderson(data)\n",
        "print('stat=%.3f' % (result.statistic))\n",
        "for i in range(len(result.critical_values)):\n",
        "\tsl, cv = result.significance_level[i], result.critical_values[i]\n",
        "\tif result.statistic < cv:\n",
        "\t\tprint('Probably Gaussian at the %.1f%% level' % (sl))\n",
        "\telse:\n",
        "\t\tprint('Probably not Gaussian at the %.1f%% level' % (sl))"
      ],
      "execution_count": null,
      "outputs": [
        {
          "output_type": "stream",
          "text": [
            "stat=1983.166\n",
            "Probably not Gaussian at the 15.0% level\n",
            "Probably not Gaussian at the 10.0% level\n",
            "Probably not Gaussian at the 5.0% level\n",
            "Probably not Gaussian at the 2.5% level\n",
            "Probably not Gaussian at the 1.0% level\n"
          ],
          "name": "stdout"
        }
      ]
    },
    {
      "cell_type": "code",
      "metadata": {
        "id": "cqO4J88FlKwW",
        "colab_type": "code",
        "colab": {
          "base_uri": "https://localhost:8080/",
          "height": 52
        },
        "outputId": "c84386e0-7d68-4112-8a4c-55cc43cfa5cb"
      },
      "source": [
        "stat, p = normaltest(blue_cars_taken)\n",
        "print('Statistics=%.3f, p=%.3f' % (stat, p))\n",
        "# interpret\n",
        "alpha = 0.05\n",
        "if p > alpha:\n",
        "\tprint('Sample looks Gaussian')\n",
        "else:\n",
        "\tprint('Sample does not look Gaussian')"
      ],
      "execution_count": null,
      "outputs": [
        {
          "output_type": "stream",
          "text": [
            "Statistics=5404.107, p=0.000\n",
            "Sample does not look Gaussian\n"
          ],
          "name": "stdout"
        }
      ]
    },
    {
      "cell_type": "code",
      "metadata": {
        "id": "LG_Da2Piliyq",
        "colab_type": "code",
        "colab": {
          "base_uri": "https://localhost:8080/",
          "height": 52
        },
        "outputId": "14eca660-10e7-4a1d-e348-c04e910150af"
      },
      "source": [
        "stat, p = normaltest(BlueCars_Returned)\n",
        "print('Statistics=%.3f, p=%.3f' % (stat, p))\n",
        "# interpret\n",
        "alpha = 0.05\n",
        "if p > alpha:\n",
        "\tprint('Sample looks Gaussian')\n",
        "else:\n",
        "\tprint('Sample does not look Gaussian')"
      ],
      "execution_count": null,
      "outputs": [
        {
          "output_type": "stream",
          "text": [
            "Statistics=241.866, p=0.000\n",
            "Sample does not look Gaussian\n"
          ],
          "name": "stdout"
        }
      ]
    },
    {
      "cell_type": "code",
      "metadata": {
        "id": "qbxaXjSZxSmV",
        "colab_type": "code",
        "colab": {}
      },
      "source": [
        "from sklearn.preprocessing import StandardScaler\n",
        "\n",
        "scaler = StandardScaler().fit(BlueCars_taken)\n",
        "BlueCars_taken = scaler.transform(BlueCars_taken)"
      ],
      "execution_count": null,
      "outputs": []
    },
    {
      "cell_type": "code",
      "metadata": {
        "id": "tLTbrHHS1HpT",
        "colab_type": "code",
        "colab": {
          "base_uri": "https://localhost:8080/",
          "height": 1000
        },
        "outputId": "88e21b35-a0b7-40a4-fb59-6b54c58cfe9b"
      },
      "source": [
        "fitted_data = scipy.stats.distributions.norm.pdf(BlueCars_taken,-3.552713678800501e-17, 1)\n",
        "fitted_data"
      ],
      "execution_count": null,
      "outputs": [
        {
          "output_type": "execute_result",
          "data": {
            "text/plain": [
              "array([[3.86192488e-01],\n",
              "       [3.19357256e-01],\n",
              "       [3.42595134e-01],\n",
              "       [1.25171921e-01],\n",
              "       [1.38248269e-01],\n",
              "       [3.14137519e-01],\n",
              "       [3.23204018e-01],\n",
              "       [3.49313837e-01],\n",
              "       [3.24472665e-01],\n",
              "       [3.52547292e-01],\n",
              "       [3.48216999e-01],\n",
              "       [3.52504751e-01],\n",
              "       [3.57739702e-01],\n",
              "       [3.96566326e-01],\n",
              "       [3.45995453e-01],\n",
              "       [3.48216999e-01],\n",
              "       [3.45995453e-01],\n",
              "       [3.37939189e-01],\n",
              "       [3.37939189e-01],\n",
              "       [3.57739702e-01],\n",
              "       [3.21928487e-01],\n",
              "       [3.25734307e-01],\n",
              "       [3.36754149e-01],\n",
              "       [3.57739702e-01],\n",
              "       [2.73838637e-01],\n",
              "       [3.42595134e-01],\n",
              "       [6.13517081e-02],\n",
              "       [3.16759943e-01],\n",
              "       [3.10158940e-01],\n",
              "       [3.73394901e-01],\n",
              "       [3.42595134e-01],\n",
              "       [3.33150350e-01],\n",
              "       [3.81691521e-01],\n",
              "       [2.02459221e-01],\n",
              "       [3.19357256e-01],\n",
              "       [2.28547079e-01],\n",
              "       [3.48216999e-01],\n",
              "       [3.23204018e-01],\n",
              "       [3.65507155e-01],\n",
              "       [3.35560917e-01],\n",
              "       [3.47110834e-01],\n",
              "       [3.41444011e-01],\n",
              "       [3.82400503e-01],\n",
              "       [3.51479093e-01],\n",
              "       [3.91506903e-01],\n",
              "       [8.95163195e-02],\n",
              "       [3.43737490e-01],\n",
              "       [3.89010322e-01],\n",
              "       [3.39115924e-01],\n",
              "       [1.73134386e-01],\n",
              "       [1.92258135e-02],\n",
              "       [3.34359612e-01],\n",
              "       [3.87382719e-01],\n",
              "       [3.30708428e-01],\n",
              "       [3.48216999e-01],\n",
              "       [3.41444011e-01],\n",
              "       [3.75018919e-01],\n",
              "       [3.29476004e-01],\n",
              "       [3.12817197e-01],\n",
              "       [3.19357256e-01],\n",
              "       [3.15451809e-01],\n",
              "       [3.96822028e-01],\n",
              "       [3.40284236e-01],\n",
              "       [3.12817197e-01],\n",
              "       [3.70869701e-01],\n",
              "       [1.69083165e-01],\n",
              "       [3.62636425e-01],\n",
              "       [3.26988824e-01],\n",
              "       [2.62241695e-01],\n",
              "       [3.37939189e-01],\n",
              "       [3.41444011e-01],\n",
              "       [3.54654293e-01],\n",
              "       [3.54654293e-01],\n",
              "       [3.98826048e-01],\n",
              "       [3.90062831e-01],\n",
              "       [3.60732487e-01],\n",
              "       [2.24162090e-01],\n",
              "       [3.18061799e-01],\n",
              "       [3.16759943e-01],\n",
              "       [3.51479093e-01],\n",
              "       [3.40284236e-01],\n",
              "       [3.47110834e-01],\n",
              "       [2.09642125e-01],\n",
              "       [3.70869701e-01],\n",
              "       [3.91488466e-01],\n",
              "       [1.78595395e-01],\n",
              "       [3.39115924e-01],\n",
              "       [3.89553992e-01],\n",
              "       [3.41444011e-01],\n",
              "       [3.90557964e-01],\n",
              "       [3.16759943e-01],\n",
              "       [1.17696356e-05],\n",
              "       [3.19357256e-01],\n",
              "       [3.08821252e-01],\n",
              "       [3.10158940e-01],\n",
              "       [3.57739702e-01],\n",
              "       [3.47110834e-01],\n",
              "       [1.97918263e-05],\n",
              "       [3.03361821e-01],\n",
              "       [3.89031505e-01],\n",
              "       [3.93620185e-01],\n",
              "       [3.64574018e-01],\n",
              "       [4.29817134e-02],\n",
              "       [3.25734307e-01],\n",
              "       [6.13517081e-02],\n",
              "       [3.62780383e-02],\n",
              "       [3.25734307e-01],\n",
              "       [3.26988824e-01],\n",
              "       [3.68239626e-01],\n",
              "       [3.26988824e-01],\n",
              "       [3.39115924e-01],\n",
              "       [3.33150350e-01],\n",
              "       [3.51479093e-01],\n",
              "       [3.63629884e-01],\n",
              "       [3.59745355e-01],\n",
              "       [3.29476004e-01],\n",
              "       [3.25947444e-06],\n",
              "       [3.50401238e-01],\n",
              "       [4.52271169e-02],\n",
              "       [3.15451809e-01],\n",
              "       [1.50734197e-01],\n",
              "       [3.37176543e-05],\n",
              "       [3.18061799e-01],\n",
              "       [3.21928487e-01],\n",
              "       [3.92809462e-01],\n",
              "       [3.62636425e-01],\n",
              "       [3.74212912e-01],\n",
              "       [3.25825253e-02],\n",
              "       [3.36754149e-01],\n",
              "       [3.75812834e-01],\n",
              "       [3.47110834e-01],\n",
              "       [3.31933250e-01],\n",
              "       [3.12817197e-01],\n",
              "       [3.24472665e-01],\n",
              "       [3.40284236e-01],\n",
              "       [3.26988824e-01],\n",
              "       [3.59745355e-01],\n",
              "       [3.21928487e-01],\n",
              "       [3.95725074e-01],\n",
              "       [3.29476004e-01],\n",
              "       [2.37340187e-01],\n",
              "       [3.87945809e-01],\n",
              "       [3.75812834e-01],\n",
              "       [2.37340187e-01],\n",
              "       [3.30708428e-01],\n",
              "       [2.19788444e-01],\n",
              "       [3.98877114e-01],\n",
              "       [3.33150350e-01],\n",
              "       [3.44870968e-01],\n",
              "       [3.63629884e-01],\n",
              "       [3.78865923e-01],\n",
              "       [3.18061799e-01],\n",
              "       [3.39115924e-01],\n",
              "       [3.92826226e-01],\n",
              "       [3.70004541e-01],\n",
              "       [3.31933250e-01],\n",
              "       [1.15017004e-01],\n",
              "       [2.27084322e-01],\n",
              "       [3.45995453e-01],\n",
              "       [3.21928487e-01],\n",
              "       [2.80000506e-02],\n",
              "       [3.58747726e-01],\n",
              "       [3.30708428e-01],\n",
              "       [3.25734307e-01],\n",
              "       [3.98676408e-01],\n",
              "       [3.41444011e-01],\n",
              "       [3.47110834e-01],\n",
              "       [3.48216999e-01],\n",
              "       [3.71723207e-01],\n",
              "       [3.44870968e-01],\n",
              "       [3.25734307e-01],\n",
              "       [2.62241695e-01],\n",
              "       [1.93928254e-01],\n",
              "       [3.18061799e-01],\n",
              "       [3.62674851e-01],\n",
              "       [3.88495424e-01],\n",
              "       [3.78121200e-01],\n",
              "       [3.44870968e-01],\n",
              "       [3.43907854e-02],\n",
              "       [3.29476004e-01],\n",
              "       [3.68239626e-01],\n",
              "       [3.85613216e-01],\n",
              "       [3.68203861e-01],\n",
              "       [3.91506903e-01],\n",
              "       [3.41444011e-01],\n",
              "       [3.66429200e-01],\n",
              "       [3.82463366e-02],\n",
              "       [3.08821252e-01],\n",
              "       [3.33150350e-01],\n",
              "       [3.53605728e-01],\n",
              "       [3.24472665e-01],\n",
              "       [3.25734307e-01],\n",
              "       [3.36754149e-01],\n",
              "       [3.16759943e-01],\n",
              "       [3.23204018e-01],\n",
              "       [3.29476004e-01],\n",
              "       [3.37939189e-01],\n",
              "       [2.47612448e-01],\n",
              "       [1.03298508e-01],\n",
              "       [3.49270144e-01],\n",
              "       [3.97298845e-01],\n",
              "       [3.43691966e-01],\n",
              "       [3.78121200e-01],\n",
              "       [2.05325029e-01],\n",
              "       [3.94744416e-01],\n",
              "       [2.85275909e-01],\n",
              "       [3.30708428e-01],\n",
              "       [7.04441298e-02],\n",
              "       [2.63697972e-01],\n",
              "       [3.51479093e-01],\n",
              "       [3.25734307e-01],\n",
              "       [3.50401238e-01],\n",
              "       [3.98826048e-01],\n",
              "       [3.48216999e-01],\n",
              "       [3.40284236e-01],\n",
              "       [3.67340055e-01],\n",
              "       [3.10158940e-01],\n",
              "       [3.61709019e-01],\n",
              "       [3.47110834e-01],\n",
              "       [3.45995453e-01],\n",
              "       [9.92303491e-02],\n",
              "       [3.40284236e-01],\n",
              "       [3.24472665e-01],\n",
              "       [3.23204018e-01],\n",
              "       [3.10158940e-01],\n",
              "       [3.25734307e-01],\n",
              "       [3.24472665e-01],\n",
              "       [3.68239626e-01],\n",
              "       [3.25734307e-01],\n",
              "       [3.51479093e-01],\n",
              "       [6.73122969e-02],\n",
              "       [3.92826226e-01],\n",
              "       [3.88495424e-01],\n",
              "       [3.47110834e-01],\n",
              "       [3.29476004e-01],\n",
              "       [3.67303837e-01],\n",
              "       [3.20646193e-01],\n",
              "       [3.80317792e-01],\n",
              "       [3.14137519e-01],\n",
              "       [3.26988824e-01],\n",
              "       [3.42595134e-01],\n",
              "       [2.22702816e-01],\n",
              "       [3.10158940e-01],\n",
              "       [3.74180422e-01],\n",
              "       [5.51192248e-02],\n",
              "       [3.37939189e-01],\n",
              "       [3.53605728e-01],\n",
              "       [3.16759943e-01],\n",
              "       [3.26988824e-01],\n",
              "       [3.52547292e-01],\n",
              "       [9.52663087e-02],\n",
              "       [3.50401238e-01],\n",
              "       [5.38008047e-02],\n",
              "       [3.96307289e-01],\n",
              "       [3.14137519e-01],\n",
              "       [2.54939328e-01],\n",
              "       [3.42595134e-01],\n",
              "       [5.57874227e-02],\n",
              "       [3.70004541e-01],\n",
              "       [3.20594762e-01],\n",
              "       [3.78865923e-01],\n",
              "       [3.61709019e-01],\n",
              "       [7.78661095e-02],\n",
              "       [5.38008047e-02],\n",
              "       [3.81024784e-01],\n",
              "       [2.53666409e-02],\n",
              "       [3.92826226e-01],\n",
              "       [3.89553992e-01],\n",
              "       [3.98580785e-01],\n",
              "       [3.74212912e-01],\n",
              "       [3.43737490e-01],\n",
              "       [3.47110834e-01],\n",
              "       [3.87382719e-01],\n",
              "       [3.39115924e-01],\n",
              "       [3.61670162e-01],\n",
              "       [3.00628142e-01],\n",
              "       [3.26988824e-01],\n",
              "       [9.62475316e-02],\n",
              "       [3.92400395e-01],\n",
              "       [3.41444011e-01],\n",
              "       [1.39471931e-01],\n",
              "       [3.23204018e-01],\n",
              "       [7.45029201e-02],\n",
              "       [3.12817197e-01],\n",
              "       [2.76715310e-01],\n",
              "       [3.36754149e-01],\n",
              "       [3.82373492e-01],\n",
              "       [3.82463366e-02],\n",
              "       [3.87382719e-01],\n",
              "       [5.25061929e-02],\n",
              "       [3.21928487e-01],\n",
              "       [1.04404966e-02],\n",
              "       [3.91506903e-01],\n",
              "       [3.63629884e-01],\n",
              "       [3.28236096e-01],\n",
              "       [3.97510558e-01],\n",
              "       [3.11490963e-01],\n",
              "       [3.30708428e-01],\n",
              "       [3.84367326e-01],\n",
              "       [1.79970797e-01],\n",
              "       [3.49313837e-01],\n",
              "       [2.32740484e-02],\n",
              "       [3.23204018e-01],\n",
              "       [3.91960605e-01],\n",
              "       [3.54654293e-01],\n",
              "       [3.98584891e-01],\n",
              "       [3.91960605e-01],\n",
              "       [6.18518009e-04],\n",
              "       [1.48193515e-01],\n",
              "       [3.19357256e-01],\n",
              "       [3.44870968e-01],\n",
              "       [3.14137519e-01],\n",
              "       [3.25734307e-01],\n",
              "       [3.25734307e-01],\n",
              "       [3.16759943e-01],\n",
              "       [3.25734307e-01],\n",
              "       [3.98676408e-01],\n",
              "       [3.33150350e-01],\n",
              "       [5.78282460e-02],\n",
              "       [3.83724715e-01],\n",
              "       [3.18061799e-01],\n",
              "       [3.72564969e-01],\n",
              "       [3.41444011e-01],\n",
              "       [2.09642125e-01],\n",
              "       [3.62674851e-01],\n",
              "       [3.84996849e-01],\n",
              "       [3.96307289e-01],\n",
              "       [3.82400503e-01],\n",
              "       [3.37939189e-01],\n",
              "       [3.23204018e-01],\n",
              "       [3.84367326e-01],\n",
              "       [3.64536463e-01],\n",
              "       [2.15428788e-01],\n",
              "       [3.93635826e-01],\n",
              "       [3.89553992e-01],\n",
              "       [3.82400503e-01],\n",
              "       [3.03361821e-01],\n",
              "       [3.12817197e-01],\n",
              "       [3.26988824e-01],\n",
              "       [3.70004541e-01],\n",
              "       [2.56402216e-01],\n",
              "       [3.97510558e-01],\n",
              "       [8.13332272e-02],\n",
              "       [3.28236096e-01],\n",
              "       [3.95712844e-01],\n",
              "       [3.28236096e-01],\n",
              "       [3.40284236e-01],\n",
              "       [3.72564969e-01],\n",
              "       [1.11744499e-01],\n",
              "       [3.97707751e-01],\n",
              "       [9.04582850e-02],\n",
              "       [3.35560917e-01],\n",
              "       [3.28236096e-01],\n",
              "       [3.34359612e-01],\n",
              "       [3.56721385e-01],\n",
              "       [3.34311394e-01],\n",
              "       [3.51479093e-01],\n",
              "       [3.14137519e-01],\n",
              "       [3.30708428e-01],\n",
              "       [3.21928487e-01],\n",
              "       [1.82733291e-01],\n",
              "       [3.23204018e-01],\n",
              "       [3.30708428e-01],\n",
              "       [3.36706576e-01],\n",
              "       [3.08821252e-01],\n",
              "       [1.92258135e-02],\n",
              "       [3.77364057e-01],\n",
              "       [8.90953706e-05],\n",
              "       [3.31933250e-01],\n",
              "       [3.86806215e-01],\n",
              "       [3.37939189e-01],\n",
              "       [3.34359612e-01],\n",
              "       [3.19357256e-01],\n",
              "       [3.35560917e-01],\n",
              "       [3.63629884e-01],\n",
              "       [2.11085702e-01],\n",
              "       [3.56721385e-01],\n",
              "       [3.28236096e-01],\n",
              "       [3.24472665e-01],\n",
              "       [3.26988824e-01],\n",
              "       [2.81051047e-03],\n",
              "       [6.88654779e-02],\n",
              "       [3.50401238e-01],\n",
              "       [3.65507155e-01],\n",
              "       [3.14137519e-01],\n",
              "       [3.34359612e-01],\n",
              "       [3.64574018e-01],\n",
              "       [3.36754149e-01],\n",
              "       [8.49047294e-02],\n",
              "       [3.36754149e-01],\n",
              "       [3.21928487e-01],\n",
              "       [3.48216999e-01],\n",
              "       [3.15451809e-01],\n",
              "       [3.31933250e-01],\n",
              "       [3.91960605e-01],\n",
              "       [3.64574018e-01],\n",
              "       [3.98934645e-01],\n",
              "       [3.11490963e-01],\n",
              "       [3.97298845e-01],\n",
              "       [3.69127819e-01]])"
            ]
          },
          "metadata": {
            "tags": []
          },
          "execution_count": 157
        }
      ]
    },
    {
      "cell_type": "code",
      "metadata": {
        "id": "kA6xGWi7vEs5",
        "colab_type": "code",
        "colab": {
          "base_uri": "https://localhost:8080/",
          "height": 35
        },
        "outputId": "eddd5864-ff83-4fc9-8d7c-07a889170bc0"
      },
      "source": [
        "X1 = fitted_data.mean()\n",
        "X1"
      ],
      "execution_count": null,
      "outputs": [
        {
          "output_type": "execute_result",
          "data": {
            "text/plain": [
              "0.3055898041252002"
            ]
          },
          "metadata": {
            "tags": []
          },
          "execution_count": 160
        }
      ]
    },
    {
      "cell_type": "code",
      "metadata": {
        "id": "7fBMmbNbuRDy",
        "colab_type": "code",
        "colab": {
          "base_uri": "https://localhost:8080/",
          "height": 35
        },
        "outputId": "5695040a-533b-43f2-af62-e8c7ca8dc2c8"
      },
      "source": [
        "print(np.var(fitted_data))"
      ],
      "execution_count": null,
      "outputs": [
        {
          "output_type": "stream",
          "text": [
            "0.010070692419879483\n"
          ],
          "name": "stdout"
        }
      ]
    },
    {
      "cell_type": "code",
      "metadata": {
        "id": "u49fzG1-uUU7",
        "colab_type": "code",
        "colab": {
          "base_uri": "https://localhost:8080/",
          "height": 35
        },
        "outputId": "02f5dfba-c381-47e5-a40d-634383db3034"
      },
      "source": [
        "std_taken = np.std(fitted_data)\n",
        "std_taken"
      ],
      "execution_count": null,
      "outputs": [
        {
          "output_type": "execute_result",
          "data": {
            "text/plain": [
              "0.10035283962040877"
            ]
          },
          "metadata": {
            "tags": []
          },
          "execution_count": 165
        }
      ]
    },
    {
      "cell_type": "code",
      "metadata": {
        "id": "_FVyVLqsVety",
        "colab_type": "code",
        "colab": {
          "base_uri": "https://localhost:8080/",
          "height": 415
        },
        "outputId": "240c087e-8a3e-4a36-844b-4dbfcd0a9f4a"
      },
      "source": [
        "np.random.seed(3)\n",
        "BlueCars_Returned  =blue_cars_returned.sample(n = 376)\n",
        "BlueCars_Returned"
      ],
      "execution_count": null,
      "outputs": [
        {
          "output_type": "execute_result",
          "data": {
            "text/html": [
              "<div>\n",
              "<style scoped>\n",
              "    .dataframe tbody tr th:only-of-type {\n",
              "        vertical-align: middle;\n",
              "    }\n",
              "\n",
              "    .dataframe tbody tr th {\n",
              "        vertical-align: top;\n",
              "    }\n",
              "\n",
              "    .dataframe thead th {\n",
              "        text-align: right;\n",
              "    }\n",
              "</style>\n",
              "<table border=\"1\" class=\"dataframe\">\n",
              "  <thead>\n",
              "    <tr style=\"text-align: right;\">\n",
              "      <th></th>\n",
              "      <th>BlueCars_returned_sum</th>\n",
              "    </tr>\n",
              "  </thead>\n",
              "  <tbody>\n",
              "    <tr>\n",
              "      <th>13657</th>\n",
              "      <td>26</td>\n",
              "    </tr>\n",
              "    <tr>\n",
              "      <th>2815</th>\n",
              "      <td>391</td>\n",
              "    </tr>\n",
              "    <tr>\n",
              "      <th>104</th>\n",
              "      <td>124</td>\n",
              "    </tr>\n",
              "    <tr>\n",
              "      <th>15172</th>\n",
              "      <td>21</td>\n",
              "    </tr>\n",
              "    <tr>\n",
              "      <th>8142</th>\n",
              "      <td>22</td>\n",
              "    </tr>\n",
              "    <tr>\n",
              "      <th>...</th>\n",
              "      <td>...</td>\n",
              "    </tr>\n",
              "    <tr>\n",
              "      <th>11178</th>\n",
              "      <td>40</td>\n",
              "    </tr>\n",
              "    <tr>\n",
              "      <th>8959</th>\n",
              "      <td>105</td>\n",
              "    </tr>\n",
              "    <tr>\n",
              "      <th>10509</th>\n",
              "      <td>7</td>\n",
              "    </tr>\n",
              "    <tr>\n",
              "      <th>10508</th>\n",
              "      <td>2</td>\n",
              "    </tr>\n",
              "    <tr>\n",
              "      <th>15089</th>\n",
              "      <td>14</td>\n",
              "    </tr>\n",
              "  </tbody>\n",
              "</table>\n",
              "<p>376 rows × 1 columns</p>\n",
              "</div>"
            ],
            "text/plain": [
              "       BlueCars_returned_sum\n",
              "13657                     26\n",
              "2815                     391\n",
              "104                      124\n",
              "15172                     21\n",
              "8142                      22\n",
              "...                      ...\n",
              "11178                     40\n",
              "8959                     105\n",
              "10509                      7\n",
              "10508                      2\n",
              "15089                     14\n",
              "\n",
              "[376 rows x 1 columns]"
            ]
          },
          "metadata": {
            "tags": []
          },
          "execution_count": 113
        }
      ]
    },
    {
      "cell_type": "code",
      "metadata": {
        "id": "MDw6QQt2yGeE",
        "colab_type": "code",
        "colab": {}
      },
      "source": [
        "from sklearn.preprocessing import StandardScaler\n",
        "\n",
        "scaler = StandardScaler().fit(BlueCars_Returned)\n",
        "BlueCars_Returned = scaler.transform(BlueCars_Returned)"
      ],
      "execution_count": null,
      "outputs": []
    },
    {
      "cell_type": "code",
      "metadata": {
        "id": "uL4qqa8t07sb",
        "colab_type": "code",
        "colab": {
          "base_uri": "https://localhost:8080/",
          "height": 1000
        },
        "outputId": "5c646dc7-c366-464e-fbe9-20cc55ed6e72"
      },
      "source": [
        "fitted_data2 = scipy.stats.distributions.norm.pdf(BlueCars_taken,-3.552713678800501e-17, 1)\n",
        "fitted_data2"
      ],
      "execution_count": null,
      "outputs": [
        {
          "output_type": "execute_result",
          "data": {
            "text/plain": [
              "array([[3.86192488e-01],\n",
              "       [3.19357256e-01],\n",
              "       [3.42595134e-01],\n",
              "       [1.25171921e-01],\n",
              "       [1.38248269e-01],\n",
              "       [3.14137519e-01],\n",
              "       [3.23204018e-01],\n",
              "       [3.49313837e-01],\n",
              "       [3.24472665e-01],\n",
              "       [3.52547292e-01],\n",
              "       [3.48216999e-01],\n",
              "       [3.52504751e-01],\n",
              "       [3.57739702e-01],\n",
              "       [3.96566326e-01],\n",
              "       [3.45995453e-01],\n",
              "       [3.48216999e-01],\n",
              "       [3.45995453e-01],\n",
              "       [3.37939189e-01],\n",
              "       [3.37939189e-01],\n",
              "       [3.57739702e-01],\n",
              "       [3.21928487e-01],\n",
              "       [3.25734307e-01],\n",
              "       [3.36754149e-01],\n",
              "       [3.57739702e-01],\n",
              "       [2.73838637e-01],\n",
              "       [3.42595134e-01],\n",
              "       [6.13517081e-02],\n",
              "       [3.16759943e-01],\n",
              "       [3.10158940e-01],\n",
              "       [3.73394901e-01],\n",
              "       [3.42595134e-01],\n",
              "       [3.33150350e-01],\n",
              "       [3.81691521e-01],\n",
              "       [2.02459221e-01],\n",
              "       [3.19357256e-01],\n",
              "       [2.28547079e-01],\n",
              "       [3.48216999e-01],\n",
              "       [3.23204018e-01],\n",
              "       [3.65507155e-01],\n",
              "       [3.35560917e-01],\n",
              "       [3.47110834e-01],\n",
              "       [3.41444011e-01],\n",
              "       [3.82400503e-01],\n",
              "       [3.51479093e-01],\n",
              "       [3.91506903e-01],\n",
              "       [8.95163195e-02],\n",
              "       [3.43737490e-01],\n",
              "       [3.89010322e-01],\n",
              "       [3.39115924e-01],\n",
              "       [1.73134386e-01],\n",
              "       [1.92258135e-02],\n",
              "       [3.34359612e-01],\n",
              "       [3.87382719e-01],\n",
              "       [3.30708428e-01],\n",
              "       [3.48216999e-01],\n",
              "       [3.41444011e-01],\n",
              "       [3.75018919e-01],\n",
              "       [3.29476004e-01],\n",
              "       [3.12817197e-01],\n",
              "       [3.19357256e-01],\n",
              "       [3.15451809e-01],\n",
              "       [3.96822028e-01],\n",
              "       [3.40284236e-01],\n",
              "       [3.12817197e-01],\n",
              "       [3.70869701e-01],\n",
              "       [1.69083165e-01],\n",
              "       [3.62636425e-01],\n",
              "       [3.26988824e-01],\n",
              "       [2.62241695e-01],\n",
              "       [3.37939189e-01],\n",
              "       [3.41444011e-01],\n",
              "       [3.54654293e-01],\n",
              "       [3.54654293e-01],\n",
              "       [3.98826048e-01],\n",
              "       [3.90062831e-01],\n",
              "       [3.60732487e-01],\n",
              "       [2.24162090e-01],\n",
              "       [3.18061799e-01],\n",
              "       [3.16759943e-01],\n",
              "       [3.51479093e-01],\n",
              "       [3.40284236e-01],\n",
              "       [3.47110834e-01],\n",
              "       [2.09642125e-01],\n",
              "       [3.70869701e-01],\n",
              "       [3.91488466e-01],\n",
              "       [1.78595395e-01],\n",
              "       [3.39115924e-01],\n",
              "       [3.89553992e-01],\n",
              "       [3.41444011e-01],\n",
              "       [3.90557964e-01],\n",
              "       [3.16759943e-01],\n",
              "       [1.17696356e-05],\n",
              "       [3.19357256e-01],\n",
              "       [3.08821252e-01],\n",
              "       [3.10158940e-01],\n",
              "       [3.57739702e-01],\n",
              "       [3.47110834e-01],\n",
              "       [1.97918263e-05],\n",
              "       [3.03361821e-01],\n",
              "       [3.89031505e-01],\n",
              "       [3.93620185e-01],\n",
              "       [3.64574018e-01],\n",
              "       [4.29817134e-02],\n",
              "       [3.25734307e-01],\n",
              "       [6.13517081e-02],\n",
              "       [3.62780383e-02],\n",
              "       [3.25734307e-01],\n",
              "       [3.26988824e-01],\n",
              "       [3.68239626e-01],\n",
              "       [3.26988824e-01],\n",
              "       [3.39115924e-01],\n",
              "       [3.33150350e-01],\n",
              "       [3.51479093e-01],\n",
              "       [3.63629884e-01],\n",
              "       [3.59745355e-01],\n",
              "       [3.29476004e-01],\n",
              "       [3.25947444e-06],\n",
              "       [3.50401238e-01],\n",
              "       [4.52271169e-02],\n",
              "       [3.15451809e-01],\n",
              "       [1.50734197e-01],\n",
              "       [3.37176543e-05],\n",
              "       [3.18061799e-01],\n",
              "       [3.21928487e-01],\n",
              "       [3.92809462e-01],\n",
              "       [3.62636425e-01],\n",
              "       [3.74212912e-01],\n",
              "       [3.25825253e-02],\n",
              "       [3.36754149e-01],\n",
              "       [3.75812834e-01],\n",
              "       [3.47110834e-01],\n",
              "       [3.31933250e-01],\n",
              "       [3.12817197e-01],\n",
              "       [3.24472665e-01],\n",
              "       [3.40284236e-01],\n",
              "       [3.26988824e-01],\n",
              "       [3.59745355e-01],\n",
              "       [3.21928487e-01],\n",
              "       [3.95725074e-01],\n",
              "       [3.29476004e-01],\n",
              "       [2.37340187e-01],\n",
              "       [3.87945809e-01],\n",
              "       [3.75812834e-01],\n",
              "       [2.37340187e-01],\n",
              "       [3.30708428e-01],\n",
              "       [2.19788444e-01],\n",
              "       [3.98877114e-01],\n",
              "       [3.33150350e-01],\n",
              "       [3.44870968e-01],\n",
              "       [3.63629884e-01],\n",
              "       [3.78865923e-01],\n",
              "       [3.18061799e-01],\n",
              "       [3.39115924e-01],\n",
              "       [3.92826226e-01],\n",
              "       [3.70004541e-01],\n",
              "       [3.31933250e-01],\n",
              "       [1.15017004e-01],\n",
              "       [2.27084322e-01],\n",
              "       [3.45995453e-01],\n",
              "       [3.21928487e-01],\n",
              "       [2.80000506e-02],\n",
              "       [3.58747726e-01],\n",
              "       [3.30708428e-01],\n",
              "       [3.25734307e-01],\n",
              "       [3.98676408e-01],\n",
              "       [3.41444011e-01],\n",
              "       [3.47110834e-01],\n",
              "       [3.48216999e-01],\n",
              "       [3.71723207e-01],\n",
              "       [3.44870968e-01],\n",
              "       [3.25734307e-01],\n",
              "       [2.62241695e-01],\n",
              "       [1.93928254e-01],\n",
              "       [3.18061799e-01],\n",
              "       [3.62674851e-01],\n",
              "       [3.88495424e-01],\n",
              "       [3.78121200e-01],\n",
              "       [3.44870968e-01],\n",
              "       [3.43907854e-02],\n",
              "       [3.29476004e-01],\n",
              "       [3.68239626e-01],\n",
              "       [3.85613216e-01],\n",
              "       [3.68203861e-01],\n",
              "       [3.91506903e-01],\n",
              "       [3.41444011e-01],\n",
              "       [3.66429200e-01],\n",
              "       [3.82463366e-02],\n",
              "       [3.08821252e-01],\n",
              "       [3.33150350e-01],\n",
              "       [3.53605728e-01],\n",
              "       [3.24472665e-01],\n",
              "       [3.25734307e-01],\n",
              "       [3.36754149e-01],\n",
              "       [3.16759943e-01],\n",
              "       [3.23204018e-01],\n",
              "       [3.29476004e-01],\n",
              "       [3.37939189e-01],\n",
              "       [2.47612448e-01],\n",
              "       [1.03298508e-01],\n",
              "       [3.49270144e-01],\n",
              "       [3.97298845e-01],\n",
              "       [3.43691966e-01],\n",
              "       [3.78121200e-01],\n",
              "       [2.05325029e-01],\n",
              "       [3.94744416e-01],\n",
              "       [2.85275909e-01],\n",
              "       [3.30708428e-01],\n",
              "       [7.04441298e-02],\n",
              "       [2.63697972e-01],\n",
              "       [3.51479093e-01],\n",
              "       [3.25734307e-01],\n",
              "       [3.50401238e-01],\n",
              "       [3.98826048e-01],\n",
              "       [3.48216999e-01],\n",
              "       [3.40284236e-01],\n",
              "       [3.67340055e-01],\n",
              "       [3.10158940e-01],\n",
              "       [3.61709019e-01],\n",
              "       [3.47110834e-01],\n",
              "       [3.45995453e-01],\n",
              "       [9.92303491e-02],\n",
              "       [3.40284236e-01],\n",
              "       [3.24472665e-01],\n",
              "       [3.23204018e-01],\n",
              "       [3.10158940e-01],\n",
              "       [3.25734307e-01],\n",
              "       [3.24472665e-01],\n",
              "       [3.68239626e-01],\n",
              "       [3.25734307e-01],\n",
              "       [3.51479093e-01],\n",
              "       [6.73122969e-02],\n",
              "       [3.92826226e-01],\n",
              "       [3.88495424e-01],\n",
              "       [3.47110834e-01],\n",
              "       [3.29476004e-01],\n",
              "       [3.67303837e-01],\n",
              "       [3.20646193e-01],\n",
              "       [3.80317792e-01],\n",
              "       [3.14137519e-01],\n",
              "       [3.26988824e-01],\n",
              "       [3.42595134e-01],\n",
              "       [2.22702816e-01],\n",
              "       [3.10158940e-01],\n",
              "       [3.74180422e-01],\n",
              "       [5.51192248e-02],\n",
              "       [3.37939189e-01],\n",
              "       [3.53605728e-01],\n",
              "       [3.16759943e-01],\n",
              "       [3.26988824e-01],\n",
              "       [3.52547292e-01],\n",
              "       [9.52663087e-02],\n",
              "       [3.50401238e-01],\n",
              "       [5.38008047e-02],\n",
              "       [3.96307289e-01],\n",
              "       [3.14137519e-01],\n",
              "       [2.54939328e-01],\n",
              "       [3.42595134e-01],\n",
              "       [5.57874227e-02],\n",
              "       [3.70004541e-01],\n",
              "       [3.20594762e-01],\n",
              "       [3.78865923e-01],\n",
              "       [3.61709019e-01],\n",
              "       [7.78661095e-02],\n",
              "       [5.38008047e-02],\n",
              "       [3.81024784e-01],\n",
              "       [2.53666409e-02],\n",
              "       [3.92826226e-01],\n",
              "       [3.89553992e-01],\n",
              "       [3.98580785e-01],\n",
              "       [3.74212912e-01],\n",
              "       [3.43737490e-01],\n",
              "       [3.47110834e-01],\n",
              "       [3.87382719e-01],\n",
              "       [3.39115924e-01],\n",
              "       [3.61670162e-01],\n",
              "       [3.00628142e-01],\n",
              "       [3.26988824e-01],\n",
              "       [9.62475316e-02],\n",
              "       [3.92400395e-01],\n",
              "       [3.41444011e-01],\n",
              "       [1.39471931e-01],\n",
              "       [3.23204018e-01],\n",
              "       [7.45029201e-02],\n",
              "       [3.12817197e-01],\n",
              "       [2.76715310e-01],\n",
              "       [3.36754149e-01],\n",
              "       [3.82373492e-01],\n",
              "       [3.82463366e-02],\n",
              "       [3.87382719e-01],\n",
              "       [5.25061929e-02],\n",
              "       [3.21928487e-01],\n",
              "       [1.04404966e-02],\n",
              "       [3.91506903e-01],\n",
              "       [3.63629884e-01],\n",
              "       [3.28236096e-01],\n",
              "       [3.97510558e-01],\n",
              "       [3.11490963e-01],\n",
              "       [3.30708428e-01],\n",
              "       [3.84367326e-01],\n",
              "       [1.79970797e-01],\n",
              "       [3.49313837e-01],\n",
              "       [2.32740484e-02],\n",
              "       [3.23204018e-01],\n",
              "       [3.91960605e-01],\n",
              "       [3.54654293e-01],\n",
              "       [3.98584891e-01],\n",
              "       [3.91960605e-01],\n",
              "       [6.18518009e-04],\n",
              "       [1.48193515e-01],\n",
              "       [3.19357256e-01],\n",
              "       [3.44870968e-01],\n",
              "       [3.14137519e-01],\n",
              "       [3.25734307e-01],\n",
              "       [3.25734307e-01],\n",
              "       [3.16759943e-01],\n",
              "       [3.25734307e-01],\n",
              "       [3.98676408e-01],\n",
              "       [3.33150350e-01],\n",
              "       [5.78282460e-02],\n",
              "       [3.83724715e-01],\n",
              "       [3.18061799e-01],\n",
              "       [3.72564969e-01],\n",
              "       [3.41444011e-01],\n",
              "       [2.09642125e-01],\n",
              "       [3.62674851e-01],\n",
              "       [3.84996849e-01],\n",
              "       [3.96307289e-01],\n",
              "       [3.82400503e-01],\n",
              "       [3.37939189e-01],\n",
              "       [3.23204018e-01],\n",
              "       [3.84367326e-01],\n",
              "       [3.64536463e-01],\n",
              "       [2.15428788e-01],\n",
              "       [3.93635826e-01],\n",
              "       [3.89553992e-01],\n",
              "       [3.82400503e-01],\n",
              "       [3.03361821e-01],\n",
              "       [3.12817197e-01],\n",
              "       [3.26988824e-01],\n",
              "       [3.70004541e-01],\n",
              "       [2.56402216e-01],\n",
              "       [3.97510558e-01],\n",
              "       [8.13332272e-02],\n",
              "       [3.28236096e-01],\n",
              "       [3.95712844e-01],\n",
              "       [3.28236096e-01],\n",
              "       [3.40284236e-01],\n",
              "       [3.72564969e-01],\n",
              "       [1.11744499e-01],\n",
              "       [3.97707751e-01],\n",
              "       [9.04582850e-02],\n",
              "       [3.35560917e-01],\n",
              "       [3.28236096e-01],\n",
              "       [3.34359612e-01],\n",
              "       [3.56721385e-01],\n",
              "       [3.34311394e-01],\n",
              "       [3.51479093e-01],\n",
              "       [3.14137519e-01],\n",
              "       [3.30708428e-01],\n",
              "       [3.21928487e-01],\n",
              "       [1.82733291e-01],\n",
              "       [3.23204018e-01],\n",
              "       [3.30708428e-01],\n",
              "       [3.36706576e-01],\n",
              "       [3.08821252e-01],\n",
              "       [1.92258135e-02],\n",
              "       [3.77364057e-01],\n",
              "       [8.90953706e-05],\n",
              "       [3.31933250e-01],\n",
              "       [3.86806215e-01],\n",
              "       [3.37939189e-01],\n",
              "       [3.34359612e-01],\n",
              "       [3.19357256e-01],\n",
              "       [3.35560917e-01],\n",
              "       [3.63629884e-01],\n",
              "       [2.11085702e-01],\n",
              "       [3.56721385e-01],\n",
              "       [3.28236096e-01],\n",
              "       [3.24472665e-01],\n",
              "       [3.26988824e-01],\n",
              "       [2.81051047e-03],\n",
              "       [6.88654779e-02],\n",
              "       [3.50401238e-01],\n",
              "       [3.65507155e-01],\n",
              "       [3.14137519e-01],\n",
              "       [3.34359612e-01],\n",
              "       [3.64574018e-01],\n",
              "       [3.36754149e-01],\n",
              "       [8.49047294e-02],\n",
              "       [3.36754149e-01],\n",
              "       [3.21928487e-01],\n",
              "       [3.48216999e-01],\n",
              "       [3.15451809e-01],\n",
              "       [3.31933250e-01],\n",
              "       [3.91960605e-01],\n",
              "       [3.64574018e-01],\n",
              "       [3.98934645e-01],\n",
              "       [3.11490963e-01],\n",
              "       [3.97298845e-01],\n",
              "       [3.69127819e-01]])"
            ]
          },
          "metadata": {
            "tags": []
          },
          "execution_count": 169
        }
      ]
    },
    {
      "cell_type": "code",
      "metadata": {
        "id": "UferQI6fV1AK",
        "colab_type": "code",
        "colab": {
          "base_uri": "https://localhost:8080/",
          "height": 35
        },
        "outputId": "0e9411d4-5c2a-42a1-81a9-9f47e7e97563"
      },
      "source": [
        "Y1 = fitted_data2.mean()\n",
        "Y1"
      ],
      "execution_count": null,
      "outputs": [
        {
          "output_type": "execute_result",
          "data": {
            "text/plain": [
              "0.3055898041252002"
            ]
          },
          "metadata": {
            "tags": []
          },
          "execution_count": 170
        }
      ]
    },
    {
      "cell_type": "code",
      "metadata": {
        "id": "PhxIxLOgjXE1",
        "colab_type": "code",
        "colab": {
          "base_uri": "https://localhost:8080/",
          "height": 35
        },
        "outputId": "abe773e0-7d0b-46b1-ef93-2fc2e5d16880"
      },
      "source": [
        "std_returned =np.std(fitted_data2)\n",
        "std_returned"
      ],
      "execution_count": null,
      "outputs": [
        {
          "output_type": "execute_result",
          "data": {
            "text/plain": [
              "0.10035283962040877"
            ]
          },
          "metadata": {
            "tags": []
          },
          "execution_count": 171
        }
      ]
    },
    {
      "cell_type": "markdown",
      "metadata": {
        "id": "W2HWhXH5EI1q",
        "colab_type": "text"
      },
      "source": [
        "Hypothesis Testing\n",
        "\n",
        "H0: There are more cars taken during the weekday than return \n",
        "H1: There are less cars return during the week than taken"
      ]
    },
    {
      "cell_type": "markdown",
      "metadata": {
        "id": "6YTfd6BCvYgB",
        "colab_type": "text"
      },
      "source": [
        "Calculating the z-score for the blue car taken "
      ]
    },
    {
      "cell_type": "code",
      "metadata": {
        "id": "aVDeP_fTvi86",
        "colab_type": "code",
        "colab": {
          "base_uri": "https://localhost:8080/",
          "height": 35
        },
        "outputId": "e01d8d33-3fdd-429e-bd0b-5118941a66b7"
      },
      "source": [
        "zscore = (0.3055898041252002-0.001858294825932965)/(0.10035283962040877)\n",
        "zscore\n"
      ],
      "execution_count": null,
      "outputs": [
        {
          "output_type": "execute_result",
          "data": {
            "text/plain": [
              "3.0266359222932975"
            ]
          },
          "metadata": {
            "tags": []
          },
          "execution_count": 183
        }
      ]
    },
    {
      "cell_type": "code",
      "metadata": {
        "id": "UYvpbdkt-OV_",
        "colab_type": "code",
        "colab": {
          "base_uri": "https://localhost:8080/",
          "height": 35
        },
        "outputId": "62a33890-fd6d-44df-8631-283a7cebc92d"
      },
      "source": [
        "from scipy.stats import norm\n",
        "prob = stats.norm.cdf(zscore)\n",
        "prob"
      ],
      "execution_count": null,
      "outputs": [
        {
          "output_type": "execute_result",
          "data": {
            "text/plain": [
              "0.9987635419366295"
            ]
          },
          "metadata": {
            "tags": []
          },
          "execution_count": 190
        }
      ]
    },
    {
      "cell_type": "markdown",
      "metadata": {
        "id": "V1SDGBea-Zoo",
        "colab_type": "text"
      },
      "source": [
        "The p_value is 0.9987 > 0.05 there for we fails to reject Null hypothesis"
      ]
    },
    {
      "cell_type": "code",
      "metadata": {
        "id": "7YfvdGvOaphZ",
        "colab_type": "code",
        "colab": {}
      },
      "source": [
        ""
      ],
      "execution_count": null,
      "outputs": []
    }
  ]
}